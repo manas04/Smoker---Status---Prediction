{
  "nbformat": 4,
  "nbformat_minor": 0,
  "metadata": {
    "colab": {
      "provenance": [],
      "gpuType": "T4"
    },
    "kernelspec": {
      "name": "python3",
      "display_name": "Python 3"
    },
    "language_info": {
      "name": "python"
    },
    "accelerator": "GPU"
  },
  "cells": [
    {
      "cell_type": "code",
      "execution_count": 89,
      "metadata": {
        "colab": {
          "base_uri": "https://localhost:8080/"
        },
        "id": "-H8JV0Q0FBEY",
        "outputId": "0266aeac-5d1e-442c-b767-256224f607dd"
      },
      "outputs": [
        {
          "output_type": "stream",
          "name": "stdout",
          "text": [
            "Drive already mounted at /content/mydrive; to attempt to forcibly remount, call drive.mount(\"/content/mydrive\", force_remount=True).\n"
          ]
        }
      ],
      "source": [
        "# Importing data from the drive\n",
        "from google.colab import drive\n",
        "drive.mount('/content/mydrive')\n"
      ]
    },
    {
      "cell_type": "code",
      "source": [
        "# Importing neccary libraries\n",
        "import pandas as pd\n",
        "import numpy as np\n",
        "import seaborn as sns\n",
        "from sklearn.model_selection import train_test_split\n",
        "import matplotlib.pyplot as plt\n",
        "from sklearn.metrics import accuracy_score, confusion_matrix, classification_report\n",
        "from sklearn.naive_bayes import GaussianNB\n",
        "from sklearn.tree import DecisionTreeClassifier\n",
        "from sklearn.svm import SVC\n",
        "from sklearn.linear_model import LogisticRegression\n",
        "from sklearn.ensemble import RandomForestClassifier\n",
        "from sklearn.ensemble import GradientBoostingClassifier\n",
        "from scipy import stats\n",
        "from sklearn.preprocessing import StandardScaler\n",
        "from sklearn.preprocessing import PolynomialFeatures\n"
      ],
      "metadata": {
        "id": "ffZ63ixIFgjx"
      },
      "execution_count": 90,
      "outputs": []
    },
    {
      "cell_type": "code",
      "source": [
        "# Assigning data to pandas dataframe\n",
        "df_train = pd.read_csv('/content/mydrive/MyDrive/playground-series-s3e24/train.csv')\n",
        "df_test = pd.read_csv('/content/mydrive/MyDrive/playground-series-s3e24/test.csv')"
      ],
      "metadata": {
        "id": "5l_JsNdnFwyt"
      },
      "execution_count": 91,
      "outputs": []
    },
    {
      "cell_type": "markdown",
      "source": [
        "# EDA"
      ],
      "metadata": {
        "id": "M7jkKVHlWkB0"
      }
    },
    {
      "cell_type": "code",
      "source": [
        "df_train.head()"
      ],
      "metadata": {
        "colab": {
          "base_uri": "https://localhost:8080/",
          "height": 273
        },
        "id": "1isadjNYF5WG",
        "outputId": "bbd81880-3bc3-48aa-cceb-3074d66feab0"
      },
      "execution_count": 92,
      "outputs": [
        {
          "output_type": "execute_result",
          "data": {
            "text/plain": [
              "   id  age  height(cm)  weight(kg)  waist(cm)  eyesight(left)  \\\n",
              "0   0   55         165          60       81.0             0.5   \n",
              "1   1   70         165          65       89.0             0.6   \n",
              "2   2   20         170          75       81.0             0.4   \n",
              "3   3   35         180          95      105.0             1.5   \n",
              "4   4   30         165          60       80.5             1.5   \n",
              "\n",
              "   eyesight(right)  hearing(left)  hearing(right)  systolic  ...  HDL  LDL  \\\n",
              "0              0.6              1               1       135  ...   40   75   \n",
              "1              0.7              2               2       146  ...   57  126   \n",
              "2              0.5              1               1       118  ...   45   93   \n",
              "3              1.2              1               1       131  ...   38  102   \n",
              "4              1.0              1               1       121  ...   44   93   \n",
              "\n",
              "   hemoglobin  Urine protein  serum creatinine  AST  ALT  Gtp  dental caries  \\\n",
              "0        16.5              1               1.0   22   25   27              0   \n",
              "1        16.2              1               1.1   27   23   37              1   \n",
              "2        17.4              1               0.8   27   31   53              0   \n",
              "3        15.9              1               1.0   20   27   30              1   \n",
              "4        15.4              1               0.8   19   13   17              0   \n",
              "\n",
              "   smoking  \n",
              "0        1  \n",
              "1        0  \n",
              "2        1  \n",
              "3        0  \n",
              "4        1  \n",
              "\n",
              "[5 rows x 24 columns]"
            ],
            "text/html": [
              "\n",
              "  <div id=\"df-60906f9f-6e2e-4f34-a093-238f8392470a\" class=\"colab-df-container\">\n",
              "    <div>\n",
              "<style scoped>\n",
              "    .dataframe tbody tr th:only-of-type {\n",
              "        vertical-align: middle;\n",
              "    }\n",
              "\n",
              "    .dataframe tbody tr th {\n",
              "        vertical-align: top;\n",
              "    }\n",
              "\n",
              "    .dataframe thead th {\n",
              "        text-align: right;\n",
              "    }\n",
              "</style>\n",
              "<table border=\"1\" class=\"dataframe\">\n",
              "  <thead>\n",
              "    <tr style=\"text-align: right;\">\n",
              "      <th></th>\n",
              "      <th>id</th>\n",
              "      <th>age</th>\n",
              "      <th>height(cm)</th>\n",
              "      <th>weight(kg)</th>\n",
              "      <th>waist(cm)</th>\n",
              "      <th>eyesight(left)</th>\n",
              "      <th>eyesight(right)</th>\n",
              "      <th>hearing(left)</th>\n",
              "      <th>hearing(right)</th>\n",
              "      <th>systolic</th>\n",
              "      <th>...</th>\n",
              "      <th>HDL</th>\n",
              "      <th>LDL</th>\n",
              "      <th>hemoglobin</th>\n",
              "      <th>Urine protein</th>\n",
              "      <th>serum creatinine</th>\n",
              "      <th>AST</th>\n",
              "      <th>ALT</th>\n",
              "      <th>Gtp</th>\n",
              "      <th>dental caries</th>\n",
              "      <th>smoking</th>\n",
              "    </tr>\n",
              "  </thead>\n",
              "  <tbody>\n",
              "    <tr>\n",
              "      <th>0</th>\n",
              "      <td>0</td>\n",
              "      <td>55</td>\n",
              "      <td>165</td>\n",
              "      <td>60</td>\n",
              "      <td>81.0</td>\n",
              "      <td>0.5</td>\n",
              "      <td>0.6</td>\n",
              "      <td>1</td>\n",
              "      <td>1</td>\n",
              "      <td>135</td>\n",
              "      <td>...</td>\n",
              "      <td>40</td>\n",
              "      <td>75</td>\n",
              "      <td>16.5</td>\n",
              "      <td>1</td>\n",
              "      <td>1.0</td>\n",
              "      <td>22</td>\n",
              "      <td>25</td>\n",
              "      <td>27</td>\n",
              "      <td>0</td>\n",
              "      <td>1</td>\n",
              "    </tr>\n",
              "    <tr>\n",
              "      <th>1</th>\n",
              "      <td>1</td>\n",
              "      <td>70</td>\n",
              "      <td>165</td>\n",
              "      <td>65</td>\n",
              "      <td>89.0</td>\n",
              "      <td>0.6</td>\n",
              "      <td>0.7</td>\n",
              "      <td>2</td>\n",
              "      <td>2</td>\n",
              "      <td>146</td>\n",
              "      <td>...</td>\n",
              "      <td>57</td>\n",
              "      <td>126</td>\n",
              "      <td>16.2</td>\n",
              "      <td>1</td>\n",
              "      <td>1.1</td>\n",
              "      <td>27</td>\n",
              "      <td>23</td>\n",
              "      <td>37</td>\n",
              "      <td>1</td>\n",
              "      <td>0</td>\n",
              "    </tr>\n",
              "    <tr>\n",
              "      <th>2</th>\n",
              "      <td>2</td>\n",
              "      <td>20</td>\n",
              "      <td>170</td>\n",
              "      <td>75</td>\n",
              "      <td>81.0</td>\n",
              "      <td>0.4</td>\n",
              "      <td>0.5</td>\n",
              "      <td>1</td>\n",
              "      <td>1</td>\n",
              "      <td>118</td>\n",
              "      <td>...</td>\n",
              "      <td>45</td>\n",
              "      <td>93</td>\n",
              "      <td>17.4</td>\n",
              "      <td>1</td>\n",
              "      <td>0.8</td>\n",
              "      <td>27</td>\n",
              "      <td>31</td>\n",
              "      <td>53</td>\n",
              "      <td>0</td>\n",
              "      <td>1</td>\n",
              "    </tr>\n",
              "    <tr>\n",
              "      <th>3</th>\n",
              "      <td>3</td>\n",
              "      <td>35</td>\n",
              "      <td>180</td>\n",
              "      <td>95</td>\n",
              "      <td>105.0</td>\n",
              "      <td>1.5</td>\n",
              "      <td>1.2</td>\n",
              "      <td>1</td>\n",
              "      <td>1</td>\n",
              "      <td>131</td>\n",
              "      <td>...</td>\n",
              "      <td>38</td>\n",
              "      <td>102</td>\n",
              "      <td>15.9</td>\n",
              "      <td>1</td>\n",
              "      <td>1.0</td>\n",
              "      <td>20</td>\n",
              "      <td>27</td>\n",
              "      <td>30</td>\n",
              "      <td>1</td>\n",
              "      <td>0</td>\n",
              "    </tr>\n",
              "    <tr>\n",
              "      <th>4</th>\n",
              "      <td>4</td>\n",
              "      <td>30</td>\n",
              "      <td>165</td>\n",
              "      <td>60</td>\n",
              "      <td>80.5</td>\n",
              "      <td>1.5</td>\n",
              "      <td>1.0</td>\n",
              "      <td>1</td>\n",
              "      <td>1</td>\n",
              "      <td>121</td>\n",
              "      <td>...</td>\n",
              "      <td>44</td>\n",
              "      <td>93</td>\n",
              "      <td>15.4</td>\n",
              "      <td>1</td>\n",
              "      <td>0.8</td>\n",
              "      <td>19</td>\n",
              "      <td>13</td>\n",
              "      <td>17</td>\n",
              "      <td>0</td>\n",
              "      <td>1</td>\n",
              "    </tr>\n",
              "  </tbody>\n",
              "</table>\n",
              "<p>5 rows × 24 columns</p>\n",
              "</div>\n",
              "    <div class=\"colab-df-buttons\">\n",
              "\n",
              "  <div class=\"colab-df-container\">\n",
              "    <button class=\"colab-df-convert\" onclick=\"convertToInteractive('df-60906f9f-6e2e-4f34-a093-238f8392470a')\"\n",
              "            title=\"Convert this dataframe to an interactive table.\"\n",
              "            style=\"display:none;\">\n",
              "\n",
              "  <svg xmlns=\"http://www.w3.org/2000/svg\" height=\"24px\" viewBox=\"0 -960 960 960\">\n",
              "    <path d=\"M120-120v-720h720v720H120Zm60-500h600v-160H180v160Zm220 220h160v-160H400v160Zm0 220h160v-160H400v160ZM180-400h160v-160H180v160Zm440 0h160v-160H620v160ZM180-180h160v-160H180v160Zm440 0h160v-160H620v160Z\"/>\n",
              "  </svg>\n",
              "    </button>\n",
              "\n",
              "  <style>\n",
              "    .colab-df-container {\n",
              "      display:flex;\n",
              "      gap: 12px;\n",
              "    }\n",
              "\n",
              "    .colab-df-convert {\n",
              "      background-color: #E8F0FE;\n",
              "      border: none;\n",
              "      border-radius: 50%;\n",
              "      cursor: pointer;\n",
              "      display: none;\n",
              "      fill: #1967D2;\n",
              "      height: 32px;\n",
              "      padding: 0 0 0 0;\n",
              "      width: 32px;\n",
              "    }\n",
              "\n",
              "    .colab-df-convert:hover {\n",
              "      background-color: #E2EBFA;\n",
              "      box-shadow: 0px 1px 2px rgba(60, 64, 67, 0.3), 0px 1px 3px 1px rgba(60, 64, 67, 0.15);\n",
              "      fill: #174EA6;\n",
              "    }\n",
              "\n",
              "    .colab-df-buttons div {\n",
              "      margin-bottom: 4px;\n",
              "    }\n",
              "\n",
              "    [theme=dark] .colab-df-convert {\n",
              "      background-color: #3B4455;\n",
              "      fill: #D2E3FC;\n",
              "    }\n",
              "\n",
              "    [theme=dark] .colab-df-convert:hover {\n",
              "      background-color: #434B5C;\n",
              "      box-shadow: 0px 1px 3px 1px rgba(0, 0, 0, 0.15);\n",
              "      filter: drop-shadow(0px 1px 2px rgba(0, 0, 0, 0.3));\n",
              "      fill: #FFFFFF;\n",
              "    }\n",
              "  </style>\n",
              "\n",
              "    <script>\n",
              "      const buttonEl =\n",
              "        document.querySelector('#df-60906f9f-6e2e-4f34-a093-238f8392470a button.colab-df-convert');\n",
              "      buttonEl.style.display =\n",
              "        google.colab.kernel.accessAllowed ? 'block' : 'none';\n",
              "\n",
              "      async function convertToInteractive(key) {\n",
              "        const element = document.querySelector('#df-60906f9f-6e2e-4f34-a093-238f8392470a');\n",
              "        const dataTable =\n",
              "          await google.colab.kernel.invokeFunction('convertToInteractive',\n",
              "                                                    [key], {});\n",
              "        if (!dataTable) return;\n",
              "\n",
              "        const docLinkHtml = 'Like what you see? Visit the ' +\n",
              "          '<a target=\"_blank\" href=https://colab.research.google.com/notebooks/data_table.ipynb>data table notebook</a>'\n",
              "          + ' to learn more about interactive tables.';\n",
              "        element.innerHTML = '';\n",
              "        dataTable['output_type'] = 'display_data';\n",
              "        await google.colab.output.renderOutput(dataTable, element);\n",
              "        const docLink = document.createElement('div');\n",
              "        docLink.innerHTML = docLinkHtml;\n",
              "        element.appendChild(docLink);\n",
              "      }\n",
              "    </script>\n",
              "  </div>\n",
              "\n",
              "\n",
              "<div id=\"df-e1b7ea35-9224-4bd0-bfee-1cbf7b39f1cd\">\n",
              "  <button class=\"colab-df-quickchart\" onclick=\"quickchart('df-e1b7ea35-9224-4bd0-bfee-1cbf7b39f1cd')\"\n",
              "            title=\"Suggest charts.\"\n",
              "            style=\"display:none;\">\n",
              "\n",
              "<svg xmlns=\"http://www.w3.org/2000/svg\" height=\"24px\"viewBox=\"0 0 24 24\"\n",
              "     width=\"24px\">\n",
              "    <g>\n",
              "        <path d=\"M19 3H5c-1.1 0-2 .9-2 2v14c0 1.1.9 2 2 2h14c1.1 0 2-.9 2-2V5c0-1.1-.9-2-2-2zM9 17H7v-7h2v7zm4 0h-2V7h2v10zm4 0h-2v-4h2v4z\"/>\n",
              "    </g>\n",
              "</svg>\n",
              "  </button>\n",
              "\n",
              "<style>\n",
              "  .colab-df-quickchart {\n",
              "      --bg-color: #E8F0FE;\n",
              "      --fill-color: #1967D2;\n",
              "      --hover-bg-color: #E2EBFA;\n",
              "      --hover-fill-color: #174EA6;\n",
              "      --disabled-fill-color: #AAA;\n",
              "      --disabled-bg-color: #DDD;\n",
              "  }\n",
              "\n",
              "  [theme=dark] .colab-df-quickchart {\n",
              "      --bg-color: #3B4455;\n",
              "      --fill-color: #D2E3FC;\n",
              "      --hover-bg-color: #434B5C;\n",
              "      --hover-fill-color: #FFFFFF;\n",
              "      --disabled-bg-color: #3B4455;\n",
              "      --disabled-fill-color: #666;\n",
              "  }\n",
              "\n",
              "  .colab-df-quickchart {\n",
              "    background-color: var(--bg-color);\n",
              "    border: none;\n",
              "    border-radius: 50%;\n",
              "    cursor: pointer;\n",
              "    display: none;\n",
              "    fill: var(--fill-color);\n",
              "    height: 32px;\n",
              "    padding: 0;\n",
              "    width: 32px;\n",
              "  }\n",
              "\n",
              "  .colab-df-quickchart:hover {\n",
              "    background-color: var(--hover-bg-color);\n",
              "    box-shadow: 0 1px 2px rgba(60, 64, 67, 0.3), 0 1px 3px 1px rgba(60, 64, 67, 0.15);\n",
              "    fill: var(--button-hover-fill-color);\n",
              "  }\n",
              "\n",
              "  .colab-df-quickchart-complete:disabled,\n",
              "  .colab-df-quickchart-complete:disabled:hover {\n",
              "    background-color: var(--disabled-bg-color);\n",
              "    fill: var(--disabled-fill-color);\n",
              "    box-shadow: none;\n",
              "  }\n",
              "\n",
              "  .colab-df-spinner {\n",
              "    border: 2px solid var(--fill-color);\n",
              "    border-color: transparent;\n",
              "    border-bottom-color: var(--fill-color);\n",
              "    animation:\n",
              "      spin 1s steps(1) infinite;\n",
              "  }\n",
              "\n",
              "  @keyframes spin {\n",
              "    0% {\n",
              "      border-color: transparent;\n",
              "      border-bottom-color: var(--fill-color);\n",
              "      border-left-color: var(--fill-color);\n",
              "    }\n",
              "    20% {\n",
              "      border-color: transparent;\n",
              "      border-left-color: var(--fill-color);\n",
              "      border-top-color: var(--fill-color);\n",
              "    }\n",
              "    30% {\n",
              "      border-color: transparent;\n",
              "      border-left-color: var(--fill-color);\n",
              "      border-top-color: var(--fill-color);\n",
              "      border-right-color: var(--fill-color);\n",
              "    }\n",
              "    40% {\n",
              "      border-color: transparent;\n",
              "      border-right-color: var(--fill-color);\n",
              "      border-top-color: var(--fill-color);\n",
              "    }\n",
              "    60% {\n",
              "      border-color: transparent;\n",
              "      border-right-color: var(--fill-color);\n",
              "    }\n",
              "    80% {\n",
              "      border-color: transparent;\n",
              "      border-right-color: var(--fill-color);\n",
              "      border-bottom-color: var(--fill-color);\n",
              "    }\n",
              "    90% {\n",
              "      border-color: transparent;\n",
              "      border-bottom-color: var(--fill-color);\n",
              "    }\n",
              "  }\n",
              "</style>\n",
              "\n",
              "  <script>\n",
              "    async function quickchart(key) {\n",
              "      const quickchartButtonEl =\n",
              "        document.querySelector('#' + key + ' button');\n",
              "      quickchartButtonEl.disabled = true;  // To prevent multiple clicks.\n",
              "      quickchartButtonEl.classList.add('colab-df-spinner');\n",
              "      try {\n",
              "        const charts = await google.colab.kernel.invokeFunction(\n",
              "            'suggestCharts', [key], {});\n",
              "      } catch (error) {\n",
              "        console.error('Error during call to suggestCharts:', error);\n",
              "      }\n",
              "      quickchartButtonEl.classList.remove('colab-df-spinner');\n",
              "      quickchartButtonEl.classList.add('colab-df-quickchart-complete');\n",
              "    }\n",
              "    (() => {\n",
              "      let quickchartButtonEl =\n",
              "        document.querySelector('#df-e1b7ea35-9224-4bd0-bfee-1cbf7b39f1cd button');\n",
              "      quickchartButtonEl.style.display =\n",
              "        google.colab.kernel.accessAllowed ? 'block' : 'none';\n",
              "    })();\n",
              "  </script>\n",
              "</div>\n",
              "    </div>\n",
              "  </div>\n"
            ]
          },
          "metadata": {},
          "execution_count": 92
        }
      ]
    },
    {
      "cell_type": "code",
      "source": [
        "df_test.head()"
      ],
      "metadata": {
        "colab": {
          "base_uri": "https://localhost:8080/",
          "height": 273
        },
        "id": "JNV2jjQBF8FS",
        "outputId": "a15b898e-442a-4e8d-8334-90cb30a7507b"
      },
      "execution_count": 93,
      "outputs": [
        {
          "output_type": "execute_result",
          "data": {
            "text/plain": [
              "       id  age  height(cm)  weight(kg)  waist(cm)  eyesight(left)  \\\n",
              "0  159256   40         165          70       84.0             1.2   \n",
              "1  159257   80         160          60       93.0             1.0   \n",
              "2  159258   60         170          70       86.5             0.6   \n",
              "3  159259   40         160          50       67.0             0.3   \n",
              "4  159260   40         170          75       89.4             1.0   \n",
              "\n",
              "   eyesight(right)  hearing(left)  hearing(right)  systolic  ...  \\\n",
              "0              1.2              1               1       130  ...   \n",
              "1              1.0              2               2       144  ...   \n",
              "2              0.7              1               1       117  ...   \n",
              "3              0.4              1               1       116  ...   \n",
              "4              0.9              1               1       132  ...   \n",
              "\n",
              "   triglyceride  HDL  LDL  hemoglobin  Urine protein  serum creatinine  AST  \\\n",
              "0           186   49  115        14.2              1               0.9   19   \n",
              "1           158   35  104        13.0              1               1.1   20   \n",
              "2           173   39   88        15.4              1               1.4   38   \n",
              "3            47   75  128        14.5              1               0.6   25   \n",
              "4           100   39  123        16.5              1               1.0   30   \n",
              "\n",
              "   ALT  Gtp  dental caries  \n",
              "0   25   32              0  \n",
              "1   12   24              0  \n",
              "2   60   36              0  \n",
              "3   18   10              1  \n",
              "4   39   27              1  \n",
              "\n",
              "[5 rows x 23 columns]"
            ],
            "text/html": [
              "\n",
              "  <div id=\"df-83010562-cd5d-4437-a194-17aa29ad8684\" class=\"colab-df-container\">\n",
              "    <div>\n",
              "<style scoped>\n",
              "    .dataframe tbody tr th:only-of-type {\n",
              "        vertical-align: middle;\n",
              "    }\n",
              "\n",
              "    .dataframe tbody tr th {\n",
              "        vertical-align: top;\n",
              "    }\n",
              "\n",
              "    .dataframe thead th {\n",
              "        text-align: right;\n",
              "    }\n",
              "</style>\n",
              "<table border=\"1\" class=\"dataframe\">\n",
              "  <thead>\n",
              "    <tr style=\"text-align: right;\">\n",
              "      <th></th>\n",
              "      <th>id</th>\n",
              "      <th>age</th>\n",
              "      <th>height(cm)</th>\n",
              "      <th>weight(kg)</th>\n",
              "      <th>waist(cm)</th>\n",
              "      <th>eyesight(left)</th>\n",
              "      <th>eyesight(right)</th>\n",
              "      <th>hearing(left)</th>\n",
              "      <th>hearing(right)</th>\n",
              "      <th>systolic</th>\n",
              "      <th>...</th>\n",
              "      <th>triglyceride</th>\n",
              "      <th>HDL</th>\n",
              "      <th>LDL</th>\n",
              "      <th>hemoglobin</th>\n",
              "      <th>Urine protein</th>\n",
              "      <th>serum creatinine</th>\n",
              "      <th>AST</th>\n",
              "      <th>ALT</th>\n",
              "      <th>Gtp</th>\n",
              "      <th>dental caries</th>\n",
              "    </tr>\n",
              "  </thead>\n",
              "  <tbody>\n",
              "    <tr>\n",
              "      <th>0</th>\n",
              "      <td>159256</td>\n",
              "      <td>40</td>\n",
              "      <td>165</td>\n",
              "      <td>70</td>\n",
              "      <td>84.0</td>\n",
              "      <td>1.2</td>\n",
              "      <td>1.2</td>\n",
              "      <td>1</td>\n",
              "      <td>1</td>\n",
              "      <td>130</td>\n",
              "      <td>...</td>\n",
              "      <td>186</td>\n",
              "      <td>49</td>\n",
              "      <td>115</td>\n",
              "      <td>14.2</td>\n",
              "      <td>1</td>\n",
              "      <td>0.9</td>\n",
              "      <td>19</td>\n",
              "      <td>25</td>\n",
              "      <td>32</td>\n",
              "      <td>0</td>\n",
              "    </tr>\n",
              "    <tr>\n",
              "      <th>1</th>\n",
              "      <td>159257</td>\n",
              "      <td>80</td>\n",
              "      <td>160</td>\n",
              "      <td>60</td>\n",
              "      <td>93.0</td>\n",
              "      <td>1.0</td>\n",
              "      <td>1.0</td>\n",
              "      <td>2</td>\n",
              "      <td>2</td>\n",
              "      <td>144</td>\n",
              "      <td>...</td>\n",
              "      <td>158</td>\n",
              "      <td>35</td>\n",
              "      <td>104</td>\n",
              "      <td>13.0</td>\n",
              "      <td>1</td>\n",
              "      <td>1.1</td>\n",
              "      <td>20</td>\n",
              "      <td>12</td>\n",
              "      <td>24</td>\n",
              "      <td>0</td>\n",
              "    </tr>\n",
              "    <tr>\n",
              "      <th>2</th>\n",
              "      <td>159258</td>\n",
              "      <td>60</td>\n",
              "      <td>170</td>\n",
              "      <td>70</td>\n",
              "      <td>86.5</td>\n",
              "      <td>0.6</td>\n",
              "      <td>0.7</td>\n",
              "      <td>1</td>\n",
              "      <td>1</td>\n",
              "      <td>117</td>\n",
              "      <td>...</td>\n",
              "      <td>173</td>\n",
              "      <td>39</td>\n",
              "      <td>88</td>\n",
              "      <td>15.4</td>\n",
              "      <td>1</td>\n",
              "      <td>1.4</td>\n",
              "      <td>38</td>\n",
              "      <td>60</td>\n",
              "      <td>36</td>\n",
              "      <td>0</td>\n",
              "    </tr>\n",
              "    <tr>\n",
              "      <th>3</th>\n",
              "      <td>159259</td>\n",
              "      <td>40</td>\n",
              "      <td>160</td>\n",
              "      <td>50</td>\n",
              "      <td>67.0</td>\n",
              "      <td>0.3</td>\n",
              "      <td>0.4</td>\n",
              "      <td>1</td>\n",
              "      <td>1</td>\n",
              "      <td>116</td>\n",
              "      <td>...</td>\n",
              "      <td>47</td>\n",
              "      <td>75</td>\n",
              "      <td>128</td>\n",
              "      <td>14.5</td>\n",
              "      <td>1</td>\n",
              "      <td>0.6</td>\n",
              "      <td>25</td>\n",
              "      <td>18</td>\n",
              "      <td>10</td>\n",
              "      <td>1</td>\n",
              "    </tr>\n",
              "    <tr>\n",
              "      <th>4</th>\n",
              "      <td>159260</td>\n",
              "      <td>40</td>\n",
              "      <td>170</td>\n",
              "      <td>75</td>\n",
              "      <td>89.4</td>\n",
              "      <td>1.0</td>\n",
              "      <td>0.9</td>\n",
              "      <td>1</td>\n",
              "      <td>1</td>\n",
              "      <td>132</td>\n",
              "      <td>...</td>\n",
              "      <td>100</td>\n",
              "      <td>39</td>\n",
              "      <td>123</td>\n",
              "      <td>16.5</td>\n",
              "      <td>1</td>\n",
              "      <td>1.0</td>\n",
              "      <td>30</td>\n",
              "      <td>39</td>\n",
              "      <td>27</td>\n",
              "      <td>1</td>\n",
              "    </tr>\n",
              "  </tbody>\n",
              "</table>\n",
              "<p>5 rows × 23 columns</p>\n",
              "</div>\n",
              "    <div class=\"colab-df-buttons\">\n",
              "\n",
              "  <div class=\"colab-df-container\">\n",
              "    <button class=\"colab-df-convert\" onclick=\"convertToInteractive('df-83010562-cd5d-4437-a194-17aa29ad8684')\"\n",
              "            title=\"Convert this dataframe to an interactive table.\"\n",
              "            style=\"display:none;\">\n",
              "\n",
              "  <svg xmlns=\"http://www.w3.org/2000/svg\" height=\"24px\" viewBox=\"0 -960 960 960\">\n",
              "    <path d=\"M120-120v-720h720v720H120Zm60-500h600v-160H180v160Zm220 220h160v-160H400v160Zm0 220h160v-160H400v160ZM180-400h160v-160H180v160Zm440 0h160v-160H620v160ZM180-180h160v-160H180v160Zm440 0h160v-160H620v160Z\"/>\n",
              "  </svg>\n",
              "    </button>\n",
              "\n",
              "  <style>\n",
              "    .colab-df-container {\n",
              "      display:flex;\n",
              "      gap: 12px;\n",
              "    }\n",
              "\n",
              "    .colab-df-convert {\n",
              "      background-color: #E8F0FE;\n",
              "      border: none;\n",
              "      border-radius: 50%;\n",
              "      cursor: pointer;\n",
              "      display: none;\n",
              "      fill: #1967D2;\n",
              "      height: 32px;\n",
              "      padding: 0 0 0 0;\n",
              "      width: 32px;\n",
              "    }\n",
              "\n",
              "    .colab-df-convert:hover {\n",
              "      background-color: #E2EBFA;\n",
              "      box-shadow: 0px 1px 2px rgba(60, 64, 67, 0.3), 0px 1px 3px 1px rgba(60, 64, 67, 0.15);\n",
              "      fill: #174EA6;\n",
              "    }\n",
              "\n",
              "    .colab-df-buttons div {\n",
              "      margin-bottom: 4px;\n",
              "    }\n",
              "\n",
              "    [theme=dark] .colab-df-convert {\n",
              "      background-color: #3B4455;\n",
              "      fill: #D2E3FC;\n",
              "    }\n",
              "\n",
              "    [theme=dark] .colab-df-convert:hover {\n",
              "      background-color: #434B5C;\n",
              "      box-shadow: 0px 1px 3px 1px rgba(0, 0, 0, 0.15);\n",
              "      filter: drop-shadow(0px 1px 2px rgba(0, 0, 0, 0.3));\n",
              "      fill: #FFFFFF;\n",
              "    }\n",
              "  </style>\n",
              "\n",
              "    <script>\n",
              "      const buttonEl =\n",
              "        document.querySelector('#df-83010562-cd5d-4437-a194-17aa29ad8684 button.colab-df-convert');\n",
              "      buttonEl.style.display =\n",
              "        google.colab.kernel.accessAllowed ? 'block' : 'none';\n",
              "\n",
              "      async function convertToInteractive(key) {\n",
              "        const element = document.querySelector('#df-83010562-cd5d-4437-a194-17aa29ad8684');\n",
              "        const dataTable =\n",
              "          await google.colab.kernel.invokeFunction('convertToInteractive',\n",
              "                                                    [key], {});\n",
              "        if (!dataTable) return;\n",
              "\n",
              "        const docLinkHtml = 'Like what you see? Visit the ' +\n",
              "          '<a target=\"_blank\" href=https://colab.research.google.com/notebooks/data_table.ipynb>data table notebook</a>'\n",
              "          + ' to learn more about interactive tables.';\n",
              "        element.innerHTML = '';\n",
              "        dataTable['output_type'] = 'display_data';\n",
              "        await google.colab.output.renderOutput(dataTable, element);\n",
              "        const docLink = document.createElement('div');\n",
              "        docLink.innerHTML = docLinkHtml;\n",
              "        element.appendChild(docLink);\n",
              "      }\n",
              "    </script>\n",
              "  </div>\n",
              "\n",
              "\n",
              "<div id=\"df-e54f153c-df9d-4a7c-b30d-0a7558f8a57e\">\n",
              "  <button class=\"colab-df-quickchart\" onclick=\"quickchart('df-e54f153c-df9d-4a7c-b30d-0a7558f8a57e')\"\n",
              "            title=\"Suggest charts.\"\n",
              "            style=\"display:none;\">\n",
              "\n",
              "<svg xmlns=\"http://www.w3.org/2000/svg\" height=\"24px\"viewBox=\"0 0 24 24\"\n",
              "     width=\"24px\">\n",
              "    <g>\n",
              "        <path d=\"M19 3H5c-1.1 0-2 .9-2 2v14c0 1.1.9 2 2 2h14c1.1 0 2-.9 2-2V5c0-1.1-.9-2-2-2zM9 17H7v-7h2v7zm4 0h-2V7h2v10zm4 0h-2v-4h2v4z\"/>\n",
              "    </g>\n",
              "</svg>\n",
              "  </button>\n",
              "\n",
              "<style>\n",
              "  .colab-df-quickchart {\n",
              "      --bg-color: #E8F0FE;\n",
              "      --fill-color: #1967D2;\n",
              "      --hover-bg-color: #E2EBFA;\n",
              "      --hover-fill-color: #174EA6;\n",
              "      --disabled-fill-color: #AAA;\n",
              "      --disabled-bg-color: #DDD;\n",
              "  }\n",
              "\n",
              "  [theme=dark] .colab-df-quickchart {\n",
              "      --bg-color: #3B4455;\n",
              "      --fill-color: #D2E3FC;\n",
              "      --hover-bg-color: #434B5C;\n",
              "      --hover-fill-color: #FFFFFF;\n",
              "      --disabled-bg-color: #3B4455;\n",
              "      --disabled-fill-color: #666;\n",
              "  }\n",
              "\n",
              "  .colab-df-quickchart {\n",
              "    background-color: var(--bg-color);\n",
              "    border: none;\n",
              "    border-radius: 50%;\n",
              "    cursor: pointer;\n",
              "    display: none;\n",
              "    fill: var(--fill-color);\n",
              "    height: 32px;\n",
              "    padding: 0;\n",
              "    width: 32px;\n",
              "  }\n",
              "\n",
              "  .colab-df-quickchart:hover {\n",
              "    background-color: var(--hover-bg-color);\n",
              "    box-shadow: 0 1px 2px rgba(60, 64, 67, 0.3), 0 1px 3px 1px rgba(60, 64, 67, 0.15);\n",
              "    fill: var(--button-hover-fill-color);\n",
              "  }\n",
              "\n",
              "  .colab-df-quickchart-complete:disabled,\n",
              "  .colab-df-quickchart-complete:disabled:hover {\n",
              "    background-color: var(--disabled-bg-color);\n",
              "    fill: var(--disabled-fill-color);\n",
              "    box-shadow: none;\n",
              "  }\n",
              "\n",
              "  .colab-df-spinner {\n",
              "    border: 2px solid var(--fill-color);\n",
              "    border-color: transparent;\n",
              "    border-bottom-color: var(--fill-color);\n",
              "    animation:\n",
              "      spin 1s steps(1) infinite;\n",
              "  }\n",
              "\n",
              "  @keyframes spin {\n",
              "    0% {\n",
              "      border-color: transparent;\n",
              "      border-bottom-color: var(--fill-color);\n",
              "      border-left-color: var(--fill-color);\n",
              "    }\n",
              "    20% {\n",
              "      border-color: transparent;\n",
              "      border-left-color: var(--fill-color);\n",
              "      border-top-color: var(--fill-color);\n",
              "    }\n",
              "    30% {\n",
              "      border-color: transparent;\n",
              "      border-left-color: var(--fill-color);\n",
              "      border-top-color: var(--fill-color);\n",
              "      border-right-color: var(--fill-color);\n",
              "    }\n",
              "    40% {\n",
              "      border-color: transparent;\n",
              "      border-right-color: var(--fill-color);\n",
              "      border-top-color: var(--fill-color);\n",
              "    }\n",
              "    60% {\n",
              "      border-color: transparent;\n",
              "      border-right-color: var(--fill-color);\n",
              "    }\n",
              "    80% {\n",
              "      border-color: transparent;\n",
              "      border-right-color: var(--fill-color);\n",
              "      border-bottom-color: var(--fill-color);\n",
              "    }\n",
              "    90% {\n",
              "      border-color: transparent;\n",
              "      border-bottom-color: var(--fill-color);\n",
              "    }\n",
              "  }\n",
              "</style>\n",
              "\n",
              "  <script>\n",
              "    async function quickchart(key) {\n",
              "      const quickchartButtonEl =\n",
              "        document.querySelector('#' + key + ' button');\n",
              "      quickchartButtonEl.disabled = true;  // To prevent multiple clicks.\n",
              "      quickchartButtonEl.classList.add('colab-df-spinner');\n",
              "      try {\n",
              "        const charts = await google.colab.kernel.invokeFunction(\n",
              "            'suggestCharts', [key], {});\n",
              "      } catch (error) {\n",
              "        console.error('Error during call to suggestCharts:', error);\n",
              "      }\n",
              "      quickchartButtonEl.classList.remove('colab-df-spinner');\n",
              "      quickchartButtonEl.classList.add('colab-df-quickchart-complete');\n",
              "    }\n",
              "    (() => {\n",
              "      let quickchartButtonEl =\n",
              "        document.querySelector('#df-e54f153c-df9d-4a7c-b30d-0a7558f8a57e button');\n",
              "      quickchartButtonEl.style.display =\n",
              "        google.colab.kernel.accessAllowed ? 'block' : 'none';\n",
              "    })();\n",
              "  </script>\n",
              "</div>\n",
              "    </div>\n",
              "  </div>\n"
            ]
          },
          "metadata": {},
          "execution_count": 93
        }
      ]
    },
    {
      "cell_type": "code",
      "source": [
        "df_train.isna().sum() # Checking Null values in the data"
      ],
      "metadata": {
        "colab": {
          "base_uri": "https://localhost:8080/"
        },
        "id": "Ug0aMmsWoW-l",
        "outputId": "14c564a3-09eb-45d5-f7b5-82949921cc80"
      },
      "execution_count": 94,
      "outputs": [
        {
          "output_type": "execute_result",
          "data": {
            "text/plain": [
              "id                     0\n",
              "age                    0\n",
              "height(cm)             0\n",
              "weight(kg)             0\n",
              "waist(cm)              0\n",
              "eyesight(left)         0\n",
              "eyesight(right)        0\n",
              "hearing(left)          0\n",
              "hearing(right)         0\n",
              "systolic               0\n",
              "relaxation             0\n",
              "fasting blood sugar    0\n",
              "Cholesterol            0\n",
              "triglyceride           0\n",
              "HDL                    0\n",
              "LDL                    0\n",
              "hemoglobin             0\n",
              "Urine protein          0\n",
              "serum creatinine       0\n",
              "AST                    0\n",
              "ALT                    0\n",
              "Gtp                    0\n",
              "dental caries          0\n",
              "smoking                0\n",
              "dtype: int64"
            ]
          },
          "metadata": {},
          "execution_count": 94
        }
      ]
    },
    {
      "cell_type": "code",
      "source": [
        "df_train.shape # checking number of rows and cols in training data"
      ],
      "metadata": {
        "colab": {
          "base_uri": "https://localhost:8080/"
        },
        "id": "TZ3QJJzZF9bZ",
        "outputId": "7701395c-5ab9-4bfd-9138-2e536ab18f23"
      },
      "execution_count": 95,
      "outputs": [
        {
          "output_type": "execute_result",
          "data": {
            "text/plain": [
              "(159256, 24)"
            ]
          },
          "metadata": {},
          "execution_count": 95
        }
      ]
    },
    {
      "cell_type": "code",
      "source": [
        "df_train.info()"
      ],
      "metadata": {
        "colab": {
          "base_uri": "https://localhost:8080/"
        },
        "id": "evM-9MMVoiHy",
        "outputId": "6484f229-f031-4cb0-8d4f-a933f9e5eb76"
      },
      "execution_count": 96,
      "outputs": [
        {
          "output_type": "stream",
          "name": "stdout",
          "text": [
            "<class 'pandas.core.frame.DataFrame'>\n",
            "RangeIndex: 159256 entries, 0 to 159255\n",
            "Data columns (total 24 columns):\n",
            " #   Column               Non-Null Count   Dtype  \n",
            "---  ------               --------------   -----  \n",
            " 0   id                   159256 non-null  int64  \n",
            " 1   age                  159256 non-null  int64  \n",
            " 2   height(cm)           159256 non-null  int64  \n",
            " 3   weight(kg)           159256 non-null  int64  \n",
            " 4   waist(cm)            159256 non-null  float64\n",
            " 5   eyesight(left)       159256 non-null  float64\n",
            " 6   eyesight(right)      159256 non-null  float64\n",
            " 7   hearing(left)        159256 non-null  int64  \n",
            " 8   hearing(right)       159256 non-null  int64  \n",
            " 9   systolic             159256 non-null  int64  \n",
            " 10  relaxation           159256 non-null  int64  \n",
            " 11  fasting blood sugar  159256 non-null  int64  \n",
            " 12  Cholesterol          159256 non-null  int64  \n",
            " 13  triglyceride         159256 non-null  int64  \n",
            " 14  HDL                  159256 non-null  int64  \n",
            " 15  LDL                  159256 non-null  int64  \n",
            " 16  hemoglobin           159256 non-null  float64\n",
            " 17  Urine protein        159256 non-null  int64  \n",
            " 18  serum creatinine     159256 non-null  float64\n",
            " 19  AST                  159256 non-null  int64  \n",
            " 20  ALT                  159256 non-null  int64  \n",
            " 21  Gtp                  159256 non-null  int64  \n",
            " 22  dental caries        159256 non-null  int64  \n",
            " 23  smoking              159256 non-null  int64  \n",
            "dtypes: float64(5), int64(19)\n",
            "memory usage: 29.2 MB\n"
          ]
        }
      ]
    },
    {
      "cell_type": "code",
      "source": [
        "df_train.describe()"
      ],
      "metadata": {
        "colab": {
          "base_uri": "https://localhost:8080/",
          "height": 367
        },
        "id": "ev3l-tYHopqT",
        "outputId": "4c2d4bd0-3030-4372-c820-c0a2a1cc3462"
      },
      "execution_count": 97,
      "outputs": [
        {
          "output_type": "execute_result",
          "data": {
            "text/plain": [
              "                  id            age     height(cm)     weight(kg)  \\\n",
              "count  159256.000000  159256.000000  159256.000000  159256.000000   \n",
              "mean    79627.500000      44.306626     165.266929      67.143662   \n",
              "std     45973.391572      11.842286       8.818970      12.586198   \n",
              "min         0.000000      20.000000     135.000000      30.000000   \n",
              "25%     39813.750000      40.000000     160.000000      60.000000   \n",
              "50%     79627.500000      40.000000     165.000000      65.000000   \n",
              "75%    119441.250000      55.000000     170.000000      75.000000   \n",
              "max    159255.000000      85.000000     190.000000     130.000000   \n",
              "\n",
              "           waist(cm)  eyesight(left)  eyesight(right)  hearing(left)  \\\n",
              "count  159256.000000   159256.000000    159256.000000  159256.000000   \n",
              "mean       83.001990        1.005798         1.000989       1.023974   \n",
              "std         8.957937        0.402113         0.392299       0.152969   \n",
              "min        51.000000        0.100000         0.100000       1.000000   \n",
              "25%        77.000000        0.800000         0.800000       1.000000   \n",
              "50%        83.000000        1.000000         1.000000       1.000000   \n",
              "75%        89.000000        1.200000         1.200000       1.000000   \n",
              "max       127.000000        9.900000         9.900000       2.000000   \n",
              "\n",
              "       hearing(right)       systolic  ...            HDL            LDL  \\\n",
              "count   159256.000000  159256.000000  ...  159256.000000  159256.000000   \n",
              "mean         1.023421     122.503648  ...      55.852684     114.607682   \n",
              "std          0.151238      12.729315  ...      13.964141      28.158931   \n",
              "min          1.000000      77.000000  ...       9.000000       1.000000   \n",
              "25%          1.000000     114.000000  ...      45.000000      95.000000   \n",
              "50%          1.000000     121.000000  ...      54.000000     114.000000   \n",
              "75%          1.000000     130.000000  ...      64.000000     133.000000   \n",
              "max          2.000000     213.000000  ...     136.000000    1860.000000   \n",
              "\n",
              "          hemoglobin  Urine protein  serum creatinine            AST  \\\n",
              "count  159256.000000  159256.000000     159256.000000  159256.000000   \n",
              "mean       14.796965       1.074233          0.892764      25.516853   \n",
              "std         1.431213       0.347856          0.179346       9.464882   \n",
              "min         4.900000       1.000000          0.100000       6.000000   \n",
              "25%        13.800000       1.000000          0.800000      20.000000   \n",
              "50%        15.000000       1.000000          0.900000      24.000000   \n",
              "75%        15.800000       1.000000          1.000000      29.000000   \n",
              "max        21.000000       6.000000          9.900000     778.000000   \n",
              "\n",
              "                 ALT            Gtp  dental caries        smoking  \n",
              "count  159256.000000  159256.000000  159256.000000  159256.000000  \n",
              "mean       26.550296      36.216004       0.197996       0.437365  \n",
              "std        17.753070      31.204643       0.398490       0.496063  \n",
              "min         1.000000       2.000000       0.000000       0.000000  \n",
              "25%        16.000000      18.000000       0.000000       0.000000  \n",
              "50%        22.000000      27.000000       0.000000       0.000000  \n",
              "75%        32.000000      44.000000       0.000000       1.000000  \n",
              "max      2914.000000     999.000000       1.000000       1.000000  \n",
              "\n",
              "[8 rows x 24 columns]"
            ],
            "text/html": [
              "\n",
              "  <div id=\"df-f200f32e-4781-4fab-b060-8d28dd2ad7ea\" class=\"colab-df-container\">\n",
              "    <div>\n",
              "<style scoped>\n",
              "    .dataframe tbody tr th:only-of-type {\n",
              "        vertical-align: middle;\n",
              "    }\n",
              "\n",
              "    .dataframe tbody tr th {\n",
              "        vertical-align: top;\n",
              "    }\n",
              "\n",
              "    .dataframe thead th {\n",
              "        text-align: right;\n",
              "    }\n",
              "</style>\n",
              "<table border=\"1\" class=\"dataframe\">\n",
              "  <thead>\n",
              "    <tr style=\"text-align: right;\">\n",
              "      <th></th>\n",
              "      <th>id</th>\n",
              "      <th>age</th>\n",
              "      <th>height(cm)</th>\n",
              "      <th>weight(kg)</th>\n",
              "      <th>waist(cm)</th>\n",
              "      <th>eyesight(left)</th>\n",
              "      <th>eyesight(right)</th>\n",
              "      <th>hearing(left)</th>\n",
              "      <th>hearing(right)</th>\n",
              "      <th>systolic</th>\n",
              "      <th>...</th>\n",
              "      <th>HDL</th>\n",
              "      <th>LDL</th>\n",
              "      <th>hemoglobin</th>\n",
              "      <th>Urine protein</th>\n",
              "      <th>serum creatinine</th>\n",
              "      <th>AST</th>\n",
              "      <th>ALT</th>\n",
              "      <th>Gtp</th>\n",
              "      <th>dental caries</th>\n",
              "      <th>smoking</th>\n",
              "    </tr>\n",
              "  </thead>\n",
              "  <tbody>\n",
              "    <tr>\n",
              "      <th>count</th>\n",
              "      <td>159256.000000</td>\n",
              "      <td>159256.000000</td>\n",
              "      <td>159256.000000</td>\n",
              "      <td>159256.000000</td>\n",
              "      <td>159256.000000</td>\n",
              "      <td>159256.000000</td>\n",
              "      <td>159256.000000</td>\n",
              "      <td>159256.000000</td>\n",
              "      <td>159256.000000</td>\n",
              "      <td>159256.000000</td>\n",
              "      <td>...</td>\n",
              "      <td>159256.000000</td>\n",
              "      <td>159256.000000</td>\n",
              "      <td>159256.000000</td>\n",
              "      <td>159256.000000</td>\n",
              "      <td>159256.000000</td>\n",
              "      <td>159256.000000</td>\n",
              "      <td>159256.000000</td>\n",
              "      <td>159256.000000</td>\n",
              "      <td>159256.000000</td>\n",
              "      <td>159256.000000</td>\n",
              "    </tr>\n",
              "    <tr>\n",
              "      <th>mean</th>\n",
              "      <td>79627.500000</td>\n",
              "      <td>44.306626</td>\n",
              "      <td>165.266929</td>\n",
              "      <td>67.143662</td>\n",
              "      <td>83.001990</td>\n",
              "      <td>1.005798</td>\n",
              "      <td>1.000989</td>\n",
              "      <td>1.023974</td>\n",
              "      <td>1.023421</td>\n",
              "      <td>122.503648</td>\n",
              "      <td>...</td>\n",
              "      <td>55.852684</td>\n",
              "      <td>114.607682</td>\n",
              "      <td>14.796965</td>\n",
              "      <td>1.074233</td>\n",
              "      <td>0.892764</td>\n",
              "      <td>25.516853</td>\n",
              "      <td>26.550296</td>\n",
              "      <td>36.216004</td>\n",
              "      <td>0.197996</td>\n",
              "      <td>0.437365</td>\n",
              "    </tr>\n",
              "    <tr>\n",
              "      <th>std</th>\n",
              "      <td>45973.391572</td>\n",
              "      <td>11.842286</td>\n",
              "      <td>8.818970</td>\n",
              "      <td>12.586198</td>\n",
              "      <td>8.957937</td>\n",
              "      <td>0.402113</td>\n",
              "      <td>0.392299</td>\n",
              "      <td>0.152969</td>\n",
              "      <td>0.151238</td>\n",
              "      <td>12.729315</td>\n",
              "      <td>...</td>\n",
              "      <td>13.964141</td>\n",
              "      <td>28.158931</td>\n",
              "      <td>1.431213</td>\n",
              "      <td>0.347856</td>\n",
              "      <td>0.179346</td>\n",
              "      <td>9.464882</td>\n",
              "      <td>17.753070</td>\n",
              "      <td>31.204643</td>\n",
              "      <td>0.398490</td>\n",
              "      <td>0.496063</td>\n",
              "    </tr>\n",
              "    <tr>\n",
              "      <th>min</th>\n",
              "      <td>0.000000</td>\n",
              "      <td>20.000000</td>\n",
              "      <td>135.000000</td>\n",
              "      <td>30.000000</td>\n",
              "      <td>51.000000</td>\n",
              "      <td>0.100000</td>\n",
              "      <td>0.100000</td>\n",
              "      <td>1.000000</td>\n",
              "      <td>1.000000</td>\n",
              "      <td>77.000000</td>\n",
              "      <td>...</td>\n",
              "      <td>9.000000</td>\n",
              "      <td>1.000000</td>\n",
              "      <td>4.900000</td>\n",
              "      <td>1.000000</td>\n",
              "      <td>0.100000</td>\n",
              "      <td>6.000000</td>\n",
              "      <td>1.000000</td>\n",
              "      <td>2.000000</td>\n",
              "      <td>0.000000</td>\n",
              "      <td>0.000000</td>\n",
              "    </tr>\n",
              "    <tr>\n",
              "      <th>25%</th>\n",
              "      <td>39813.750000</td>\n",
              "      <td>40.000000</td>\n",
              "      <td>160.000000</td>\n",
              "      <td>60.000000</td>\n",
              "      <td>77.000000</td>\n",
              "      <td>0.800000</td>\n",
              "      <td>0.800000</td>\n",
              "      <td>1.000000</td>\n",
              "      <td>1.000000</td>\n",
              "      <td>114.000000</td>\n",
              "      <td>...</td>\n",
              "      <td>45.000000</td>\n",
              "      <td>95.000000</td>\n",
              "      <td>13.800000</td>\n",
              "      <td>1.000000</td>\n",
              "      <td>0.800000</td>\n",
              "      <td>20.000000</td>\n",
              "      <td>16.000000</td>\n",
              "      <td>18.000000</td>\n",
              "      <td>0.000000</td>\n",
              "      <td>0.000000</td>\n",
              "    </tr>\n",
              "    <tr>\n",
              "      <th>50%</th>\n",
              "      <td>79627.500000</td>\n",
              "      <td>40.000000</td>\n",
              "      <td>165.000000</td>\n",
              "      <td>65.000000</td>\n",
              "      <td>83.000000</td>\n",
              "      <td>1.000000</td>\n",
              "      <td>1.000000</td>\n",
              "      <td>1.000000</td>\n",
              "      <td>1.000000</td>\n",
              "      <td>121.000000</td>\n",
              "      <td>...</td>\n",
              "      <td>54.000000</td>\n",
              "      <td>114.000000</td>\n",
              "      <td>15.000000</td>\n",
              "      <td>1.000000</td>\n",
              "      <td>0.900000</td>\n",
              "      <td>24.000000</td>\n",
              "      <td>22.000000</td>\n",
              "      <td>27.000000</td>\n",
              "      <td>0.000000</td>\n",
              "      <td>0.000000</td>\n",
              "    </tr>\n",
              "    <tr>\n",
              "      <th>75%</th>\n",
              "      <td>119441.250000</td>\n",
              "      <td>55.000000</td>\n",
              "      <td>170.000000</td>\n",
              "      <td>75.000000</td>\n",
              "      <td>89.000000</td>\n",
              "      <td>1.200000</td>\n",
              "      <td>1.200000</td>\n",
              "      <td>1.000000</td>\n",
              "      <td>1.000000</td>\n",
              "      <td>130.000000</td>\n",
              "      <td>...</td>\n",
              "      <td>64.000000</td>\n",
              "      <td>133.000000</td>\n",
              "      <td>15.800000</td>\n",
              "      <td>1.000000</td>\n",
              "      <td>1.000000</td>\n",
              "      <td>29.000000</td>\n",
              "      <td>32.000000</td>\n",
              "      <td>44.000000</td>\n",
              "      <td>0.000000</td>\n",
              "      <td>1.000000</td>\n",
              "    </tr>\n",
              "    <tr>\n",
              "      <th>max</th>\n",
              "      <td>159255.000000</td>\n",
              "      <td>85.000000</td>\n",
              "      <td>190.000000</td>\n",
              "      <td>130.000000</td>\n",
              "      <td>127.000000</td>\n",
              "      <td>9.900000</td>\n",
              "      <td>9.900000</td>\n",
              "      <td>2.000000</td>\n",
              "      <td>2.000000</td>\n",
              "      <td>213.000000</td>\n",
              "      <td>...</td>\n",
              "      <td>136.000000</td>\n",
              "      <td>1860.000000</td>\n",
              "      <td>21.000000</td>\n",
              "      <td>6.000000</td>\n",
              "      <td>9.900000</td>\n",
              "      <td>778.000000</td>\n",
              "      <td>2914.000000</td>\n",
              "      <td>999.000000</td>\n",
              "      <td>1.000000</td>\n",
              "      <td>1.000000</td>\n",
              "    </tr>\n",
              "  </tbody>\n",
              "</table>\n",
              "<p>8 rows × 24 columns</p>\n",
              "</div>\n",
              "    <div class=\"colab-df-buttons\">\n",
              "\n",
              "  <div class=\"colab-df-container\">\n",
              "    <button class=\"colab-df-convert\" onclick=\"convertToInteractive('df-f200f32e-4781-4fab-b060-8d28dd2ad7ea')\"\n",
              "            title=\"Convert this dataframe to an interactive table.\"\n",
              "            style=\"display:none;\">\n",
              "\n",
              "  <svg xmlns=\"http://www.w3.org/2000/svg\" height=\"24px\" viewBox=\"0 -960 960 960\">\n",
              "    <path d=\"M120-120v-720h720v720H120Zm60-500h600v-160H180v160Zm220 220h160v-160H400v160Zm0 220h160v-160H400v160ZM180-400h160v-160H180v160Zm440 0h160v-160H620v160ZM180-180h160v-160H180v160Zm440 0h160v-160H620v160Z\"/>\n",
              "  </svg>\n",
              "    </button>\n",
              "\n",
              "  <style>\n",
              "    .colab-df-container {\n",
              "      display:flex;\n",
              "      gap: 12px;\n",
              "    }\n",
              "\n",
              "    .colab-df-convert {\n",
              "      background-color: #E8F0FE;\n",
              "      border: none;\n",
              "      border-radius: 50%;\n",
              "      cursor: pointer;\n",
              "      display: none;\n",
              "      fill: #1967D2;\n",
              "      height: 32px;\n",
              "      padding: 0 0 0 0;\n",
              "      width: 32px;\n",
              "    }\n",
              "\n",
              "    .colab-df-convert:hover {\n",
              "      background-color: #E2EBFA;\n",
              "      box-shadow: 0px 1px 2px rgba(60, 64, 67, 0.3), 0px 1px 3px 1px rgba(60, 64, 67, 0.15);\n",
              "      fill: #174EA6;\n",
              "    }\n",
              "\n",
              "    .colab-df-buttons div {\n",
              "      margin-bottom: 4px;\n",
              "    }\n",
              "\n",
              "    [theme=dark] .colab-df-convert {\n",
              "      background-color: #3B4455;\n",
              "      fill: #D2E3FC;\n",
              "    }\n",
              "\n",
              "    [theme=dark] .colab-df-convert:hover {\n",
              "      background-color: #434B5C;\n",
              "      box-shadow: 0px 1px 3px 1px rgba(0, 0, 0, 0.15);\n",
              "      filter: drop-shadow(0px 1px 2px rgba(0, 0, 0, 0.3));\n",
              "      fill: #FFFFFF;\n",
              "    }\n",
              "  </style>\n",
              "\n",
              "    <script>\n",
              "      const buttonEl =\n",
              "        document.querySelector('#df-f200f32e-4781-4fab-b060-8d28dd2ad7ea button.colab-df-convert');\n",
              "      buttonEl.style.display =\n",
              "        google.colab.kernel.accessAllowed ? 'block' : 'none';\n",
              "\n",
              "      async function convertToInteractive(key) {\n",
              "        const element = document.querySelector('#df-f200f32e-4781-4fab-b060-8d28dd2ad7ea');\n",
              "        const dataTable =\n",
              "          await google.colab.kernel.invokeFunction('convertToInteractive',\n",
              "                                                    [key], {});\n",
              "        if (!dataTable) return;\n",
              "\n",
              "        const docLinkHtml = 'Like what you see? Visit the ' +\n",
              "          '<a target=\"_blank\" href=https://colab.research.google.com/notebooks/data_table.ipynb>data table notebook</a>'\n",
              "          + ' to learn more about interactive tables.';\n",
              "        element.innerHTML = '';\n",
              "        dataTable['output_type'] = 'display_data';\n",
              "        await google.colab.output.renderOutput(dataTable, element);\n",
              "        const docLink = document.createElement('div');\n",
              "        docLink.innerHTML = docLinkHtml;\n",
              "        element.appendChild(docLink);\n",
              "      }\n",
              "    </script>\n",
              "  </div>\n",
              "\n",
              "\n",
              "<div id=\"df-d63c9d95-5078-4254-9b9d-3416626e0c41\">\n",
              "  <button class=\"colab-df-quickchart\" onclick=\"quickchart('df-d63c9d95-5078-4254-9b9d-3416626e0c41')\"\n",
              "            title=\"Suggest charts.\"\n",
              "            style=\"display:none;\">\n",
              "\n",
              "<svg xmlns=\"http://www.w3.org/2000/svg\" height=\"24px\"viewBox=\"0 0 24 24\"\n",
              "     width=\"24px\">\n",
              "    <g>\n",
              "        <path d=\"M19 3H5c-1.1 0-2 .9-2 2v14c0 1.1.9 2 2 2h14c1.1 0 2-.9 2-2V5c0-1.1-.9-2-2-2zM9 17H7v-7h2v7zm4 0h-2V7h2v10zm4 0h-2v-4h2v4z\"/>\n",
              "    </g>\n",
              "</svg>\n",
              "  </button>\n",
              "\n",
              "<style>\n",
              "  .colab-df-quickchart {\n",
              "      --bg-color: #E8F0FE;\n",
              "      --fill-color: #1967D2;\n",
              "      --hover-bg-color: #E2EBFA;\n",
              "      --hover-fill-color: #174EA6;\n",
              "      --disabled-fill-color: #AAA;\n",
              "      --disabled-bg-color: #DDD;\n",
              "  }\n",
              "\n",
              "  [theme=dark] .colab-df-quickchart {\n",
              "      --bg-color: #3B4455;\n",
              "      --fill-color: #D2E3FC;\n",
              "      --hover-bg-color: #434B5C;\n",
              "      --hover-fill-color: #FFFFFF;\n",
              "      --disabled-bg-color: #3B4455;\n",
              "      --disabled-fill-color: #666;\n",
              "  }\n",
              "\n",
              "  .colab-df-quickchart {\n",
              "    background-color: var(--bg-color);\n",
              "    border: none;\n",
              "    border-radius: 50%;\n",
              "    cursor: pointer;\n",
              "    display: none;\n",
              "    fill: var(--fill-color);\n",
              "    height: 32px;\n",
              "    padding: 0;\n",
              "    width: 32px;\n",
              "  }\n",
              "\n",
              "  .colab-df-quickchart:hover {\n",
              "    background-color: var(--hover-bg-color);\n",
              "    box-shadow: 0 1px 2px rgba(60, 64, 67, 0.3), 0 1px 3px 1px rgba(60, 64, 67, 0.15);\n",
              "    fill: var(--button-hover-fill-color);\n",
              "  }\n",
              "\n",
              "  .colab-df-quickchart-complete:disabled,\n",
              "  .colab-df-quickchart-complete:disabled:hover {\n",
              "    background-color: var(--disabled-bg-color);\n",
              "    fill: var(--disabled-fill-color);\n",
              "    box-shadow: none;\n",
              "  }\n",
              "\n",
              "  .colab-df-spinner {\n",
              "    border: 2px solid var(--fill-color);\n",
              "    border-color: transparent;\n",
              "    border-bottom-color: var(--fill-color);\n",
              "    animation:\n",
              "      spin 1s steps(1) infinite;\n",
              "  }\n",
              "\n",
              "  @keyframes spin {\n",
              "    0% {\n",
              "      border-color: transparent;\n",
              "      border-bottom-color: var(--fill-color);\n",
              "      border-left-color: var(--fill-color);\n",
              "    }\n",
              "    20% {\n",
              "      border-color: transparent;\n",
              "      border-left-color: var(--fill-color);\n",
              "      border-top-color: var(--fill-color);\n",
              "    }\n",
              "    30% {\n",
              "      border-color: transparent;\n",
              "      border-left-color: var(--fill-color);\n",
              "      border-top-color: var(--fill-color);\n",
              "      border-right-color: var(--fill-color);\n",
              "    }\n",
              "    40% {\n",
              "      border-color: transparent;\n",
              "      border-right-color: var(--fill-color);\n",
              "      border-top-color: var(--fill-color);\n",
              "    }\n",
              "    60% {\n",
              "      border-color: transparent;\n",
              "      border-right-color: var(--fill-color);\n",
              "    }\n",
              "    80% {\n",
              "      border-color: transparent;\n",
              "      border-right-color: var(--fill-color);\n",
              "      border-bottom-color: var(--fill-color);\n",
              "    }\n",
              "    90% {\n",
              "      border-color: transparent;\n",
              "      border-bottom-color: var(--fill-color);\n",
              "    }\n",
              "  }\n",
              "</style>\n",
              "\n",
              "  <script>\n",
              "    async function quickchart(key) {\n",
              "      const quickchartButtonEl =\n",
              "        document.querySelector('#' + key + ' button');\n",
              "      quickchartButtonEl.disabled = true;  // To prevent multiple clicks.\n",
              "      quickchartButtonEl.classList.add('colab-df-spinner');\n",
              "      try {\n",
              "        const charts = await google.colab.kernel.invokeFunction(\n",
              "            'suggestCharts', [key], {});\n",
              "      } catch (error) {\n",
              "        console.error('Error during call to suggestCharts:', error);\n",
              "      }\n",
              "      quickchartButtonEl.classList.remove('colab-df-spinner');\n",
              "      quickchartButtonEl.classList.add('colab-df-quickchart-complete');\n",
              "    }\n",
              "    (() => {\n",
              "      let quickchartButtonEl =\n",
              "        document.querySelector('#df-d63c9d95-5078-4254-9b9d-3416626e0c41 button');\n",
              "      quickchartButtonEl.style.display =\n",
              "        google.colab.kernel.accessAllowed ? 'block' : 'none';\n",
              "    })();\n",
              "  </script>\n",
              "</div>\n",
              "    </div>\n",
              "  </div>\n"
            ]
          },
          "metadata": {},
          "execution_count": 97
        }
      ]
    },
    {
      "cell_type": "code",
      "source": [
        "df_train['smoking'].value_counts()"
      ],
      "metadata": {
        "colab": {
          "base_uri": "https://localhost:8080/"
        },
        "id": "GWF72pghoptQ",
        "outputId": "a1681295-fc72-4dc2-87dc-54d3adde74d0"
      },
      "execution_count": 98,
      "outputs": [
        {
          "output_type": "execute_result",
          "data": {
            "text/plain": [
              "0    89603\n",
              "1    69653\n",
              "Name: smoking, dtype: int64"
            ]
          },
          "metadata": {},
          "execution_count": 98
        }
      ]
    },
    {
      "cell_type": "code",
      "source": [
        "category_count = df_train['smoking'].value_counts()\n",
        "category_count.plot(kind='bar')\n",
        "plt.xlabel('Category')\n",
        "plt.ylabel('Frequency')\n",
        "plt.show()"
      ],
      "metadata": {
        "colab": {
          "base_uri": "https://localhost:8080/",
          "height": 444
        },
        "id": "lmXBJTtjsnt1",
        "outputId": "e5b949d2-9d75-421b-a308-c4da8dd4d2ce"
      },
      "execution_count": 99,
      "outputs": [
        {
          "output_type": "display_data",
          "data": {
            "text/plain": [
              "<Figure size 640x480 with 1 Axes>"
            ],
            "image/png": "[encoded data removed]"
          },
          "metadata": {}
        }
      ]
    },
    {
      "cell_type": "code",
      "source": [
        "age_group = df_train.groupby('age')['smoking'].count().reset_index()\n",
        "\n",
        "plt.bar(age_group['age'], age_group['smoking'])\n",
        "plt.xlabel('Age Group')\n",
        "plt.ylabel('Smoke')\n",
        "plt.title('Count of Smoking by Age')\n",
        "plt.show()"
      ],
      "metadata": {
        "colab": {
          "base_uri": "https://localhost:8080/",
          "height": 472
        },
        "id": "YazQc-NEsnxk",
        "outputId": "458e5b7b-3fce-471b-fd99-534f3416a230"
      },
      "execution_count": 100,
      "outputs": [
        {
          "output_type": "display_data",
          "data": {
            "text/plain": [
              "<Figure size 640x480 with 1 Axes>"
            ],
            "image/png": "[encoded data removed]"
          },
          "metadata": {}
        }
      ]
    },
    {
      "cell_type": "markdown",
      "source": [
        "# Outlier Removal"
      ],
      "metadata": {
        "id": "fsLRn-hENU0S"
      }
    },
    {
      "cell_type": "code",
      "source": [
        "# The approach is to remove data points where the z score is above 3\n",
        "print(\"Shape before : \", df_train.shape)\n",
        "z_scored = stats.zscore(df_train['age'])\n",
        "df_train = df_train[(z_scored < 3)]\n",
        "print(\"Shape after : \", df_train.shape)"
      ],
      "metadata": {
        "colab": {
          "base_uri": "https://localhost:8080/"
        },
        "id": "1L47oUgvsn0y",
        "outputId": "9c100051-7050-4546-b720-c5a577f93a93"
      },
      "execution_count": 101,
      "outputs": [
        {
          "output_type": "stream",
          "name": "stdout",
          "text": [
            "Shape before :  (159256, 24)\n",
            "Shape after :  (158574, 24)\n"
          ]
        }
      ]
    },
    {
      "cell_type": "code",
      "source": [
        "df_train.hist(bins=20,figsize=(15,15),color='purple')\n",
        "plt.show()"
      ],
      "metadata": {
        "colab": {
          "base_uri": "https://localhost:8080/",
          "height": 1000
        },
        "id": "Iu1kjcgpsn3-",
        "outputId": "9c72a4c9-6641-48da-c56a-f251919bdab2"
      },
      "execution_count": 102,
      "outputs": [
        {
          "output_type": "display_data",
          "data": {
            "text/plain": [
              "<Figure size 1500x1500 with 25 Axes>"
            ],
            "image/png": "[encoded data removed]"
          },
          "metadata": {}
        }
      ]
    },
    {
      "cell_type": "code",
      "source": [
        "\n",
        "\n"
      ],
      "metadata": {
        "id": "R4GFnDUK9usl"
      },
      "execution_count": 102,
      "outputs": []
    },
    {
      "cell_type": "markdown",
      "source": [
        "# Feature Scaling"
      ],
      "metadata": {
        "id": "zb9OSVX7Q6hN"
      }
    },
    {
      "cell_type": "code",
      "source": [
        "y= df_train['smoking']\n",
        "X = df_train.drop(columns = ['id','smoking'], axis=1) # Assigning classification variable to y and rest to X\n"
      ],
      "metadata": {
        "id": "1PZW2bLQopwY"
      },
      "execution_count": 103,
      "outputs": []
    },
    {
      "cell_type": "code",
      "source": [
        "X_train, X_test, y_train, y_test = train_test_split(X,y, test_size=0.3, random_state=17,shuffle=True) # Dividing data to training and testing"
      ],
      "metadata": {
        "id": "_NN1h4uxopza"
      },
      "execution_count": 104,
      "outputs": []
    },
    {
      "cell_type": "code",
      "source": [
        "scaler = StandardScaler()\n",
        "X_train_scaled = scaler.fit_transform(X_train)\n",
        "X_test_scaled = scaler.transform(X_test)"
      ],
      "metadata": {
        "id": "oS9G9oaFeHYc"
      },
      "execution_count": 105,
      "outputs": []
    },
    {
      "cell_type": "code",
      "source": [
        "print(X_train.shape,X_test.shape,y_train.shape,y_test.shape) # size of training and testing data"
      ],
      "metadata": {
        "colab": {
          "base_uri": "https://localhost:8080/"
        },
        "id": "fHbjH7-fop1y",
        "outputId": "9d615f8f-45f2-4116-89ab-2fafef7c7994"
      },
      "execution_count": 106,
      "outputs": [
        {
          "output_type": "stream",
          "name": "stdout",
          "text": [
            "(111001, 22) (47573, 22) (111001,) (47573,)\n"
          ]
        }
      ]
    },
    {
      "cell_type": "markdown",
      "source": [
        "## Models"
      ],
      "metadata": {
        "id": "TUKMA8W3u_Ho"
      }
    },
    {
      "cell_type": "markdown",
      "source": [
        "1. Naive Bayes"
      ],
      "metadata": {
        "id": "T8j9NhatwXR7"
      }
    },
    {
      "cell_type": "code",
      "source": [
        "# Naive Bayes\n",
        "\n",
        "NB = GaussianNB()\n",
        "NB.fit(X_train_scaled,y_train)\n",
        "y_pred = NB.predict(X_test_scaled)\n",
        "accuracy = accuracy_score(y_test, y_pred)\n",
        "class_report = classification_report(y_test, y_pred)\n",
        "\n",
        "print(\"Accuracy : \", accuracy)\n",
        "\n"
      ],
      "metadata": {
        "colab": {
          "base_uri": "https://localhost:8080/"
        },
        "id": "dh2C_QBqsDss",
        "outputId": "6a47d6bb-d5a6-4b41-9a51-4fade9397c29"
      },
      "execution_count": 107,
      "outputs": [
        {
          "output_type": "stream",
          "name": "stdout",
          "text": [
            "Accuracy :  0.7230782166354865\n"
          ]
        }
      ]
    },
    {
      "cell_type": "markdown",
      "source": [
        "2. Decision Tree"
      ],
      "metadata": {
        "id": "9SPWp-RLwb0t"
      }
    },
    {
      "cell_type": "code",
      "source": [
        "DT = DecisionTreeClassifier(max_depth=12,criterion='gini',random_state=42,min_samples_split=3,min_samples_leaf=1)\n",
        "DT.fit(X_train_scaled,y_train)\n",
        "y_pred = DT.predict(X_test_scaled)\n",
        "accuracy = accuracy_score(y_test, y_pred)\n",
        "\n",
        "print(\"Accuracy for Decision Tree : \", accuracy)"
      ],
      "metadata": {
        "colab": {
          "base_uri": "https://localhost:8080/"
        },
        "id": "mqJemVoswbQd",
        "outputId": "9df33f8a-0614-41a8-a0da-6714655a69a4"
      },
      "execution_count": 108,
      "outputs": [
        {
          "output_type": "stream",
          "name": "stdout",
          "text": [
            "Accuracy for Decision Tree :  0.7488701574422466\n"
          ]
        }
      ]
    },
    {
      "cell_type": "markdown",
      "source": [
        "3. Support Vector Classifier"
      ],
      "metadata": {
        "id": "BnqMzGgrw9ZO"
      }
    },
    {
      "cell_type": "code",
      "source": [
        "#SV = SVC(kernel='linear')\n",
        "#SV.fit(X_train, y_train)\n",
        "#y_pred = SV.predict(X_test)\n",
        "#accuracy = accuracy_score(y_test,y_pred)\n",
        "\n",
        "#print(\"Accuracy of SVC is : \", accuracy)\n"
      ],
      "metadata": {
        "id": "-x7j8-NOu-PU"
      },
      "execution_count": 109,
      "outputs": []
    },
    {
      "cell_type": "markdown",
      "source": [
        "4. Logistic Regression"
      ],
      "metadata": {
        "id": "HbwzHePWLskc"
      }
    },
    {
      "cell_type": "code",
      "source": [
        "LR  = LogisticRegression(max_iter =1000)\n",
        "LR.fit(X_train_scaled, y_train)\n",
        "y_pred = LR.predict(X_test_scaled)\n",
        "\n",
        "accuracy = accuracy_score(y_test, y_pred)\n",
        "\n",
        "print(\"Accuracy of Logistic Regression : \", accuracy)\n",
        "\n"
      ],
      "metadata": {
        "colab": {
          "base_uri": "https://localhost:8080/"
        },
        "id": "5jvNQgJUu-R7",
        "outputId": "281ed404-5b05-43e7-a575-5d5edd1aa9ed"
      },
      "execution_count": 110,
      "outputs": [
        {
          "output_type": "stream",
          "name": "stdout",
          "text": [
            "Accuracy of Logistic Regression :  0.7492275029953965\n"
          ]
        }
      ]
    },
    {
      "cell_type": "markdown",
      "source": [
        "5. Random Forest Classifier"
      ],
      "metadata": {
        "id": "g1ynXTsPLwRt"
      }
    },
    {
      "cell_type": "code",
      "source": [
        "RF = RandomForestClassifier(n_estimators=100,criterion='gini',\n",
        "    max_depth=None,\n",
        "    min_samples_split=2,\n",
        "    min_samples_leaf=1,random_state=42)\n",
        "RF.fit(X_train_scaled,y_train)\n",
        "y_pred = RF.predict(X_test_scaled)\n",
        "accuracy  = accuracy_score(y_test,y_pred)\n",
        "\n",
        "print(\"Accurcay of Random Forest : \", accuracy)"
      ],
      "metadata": {
        "colab": {
          "base_uri": "https://localhost:8080/"
        },
        "id": "RxBO8kktJ6fT",
        "outputId": "db457707-ec7e-4a63-f5c4-9111bb1f7dfe"
      },
      "execution_count": 111,
      "outputs": [
        {
          "output_type": "stream",
          "name": "stdout",
          "text": [
            "Accurcay of Random Forest :  0.7740314884493305\n"
          ]
        }
      ]
    },
    {
      "cell_type": "markdown",
      "source": [
        "6. Gradient Boosting"
      ],
      "metadata": {
        "id": "ulN70cYWMBKy"
      }
    },
    {
      "cell_type": "code",
      "source": [
        "GB = GradientBoostingClassifier(n_estimators = 100, max_depth = 10, learning_rate=1.0, random_state=42)\n",
        "GB.fit(X_train, y_train)\n",
        "y_predict = GB.predict(X_test)\n",
        "accuracy = accuracy_score(y_test, y_pred)\n",
        "\n",
        "print(\"Accuracy of Gradient Boosting Classifier : \", accuracy)"
      ],
      "metadata": {
        "colab": {
          "base_uri": "https://localhost:8080/"
        },
        "id": "S1bD1Q9tMAKI",
        "outputId": "7adce057-b983-4b2d-9895-6810f0ae1a37"
      },
      "execution_count": 112,
      "outputs": [
        {
          "output_type": "stream",
          "name": "stdout",
          "text": [
            "Accuracy of Gradient Boosting Classifier :  0.7740314884493305\n"
          ]
        }
      ]
    },
    {
      "cell_type": "code",
      "source": [
        "from sklearn.discriminant_analysis import QuadraticDiscriminantAnalysis\n",
        "QD = QuadraticDiscriminantAnalysis()\n",
        "QD.fit(X_train,y_train)\n",
        "y_predict = QD.predict(X_test)\n",
        "accuracy = accuracy_score(y_test,y_predict)\n",
        "\n",
        "print(\"Accuracy of QuadraticDiscriminant Analysis is : \",accuracy)\n",
        "\n"
      ],
      "metadata": {
        "colab": {
          "base_uri": "https://localhost:8080/"
        },
        "id": "RNo4hRxgS4uH",
        "outputId": "b43b7f3e-9987-45f8-e5c9-c734184cb21a"
      },
      "execution_count": 113,
      "outputs": [
        {
          "output_type": "stream",
          "name": "stdout",
          "text": [
            "Accuracy of QuadraticDiscriminant Analysis is :  0.7363000021020326\n"
          ]
        }
      ]
    },
    {
      "cell_type": "markdown",
      "source": [
        "7. Extra Tree Classifier"
      ],
      "metadata": {
        "id": "K_1aQb3SU-j7"
      }
    },
    {
      "cell_type": "code",
      "source": [
        "from sklearn.ensemble import ExtraTreesClassifier\n",
        "\n",
        "ETC = ExtraTreesClassifier(n_estimators=100, random_state = 42)\n",
        "ETC.fit(X_train,y_train)\n",
        "y_predict = ETC.predict(X_test)\n",
        "accuracy = accuracy_score(y_test,y_predict)\n",
        "print(\"Accuracy of Extra Tree Classifier : \", accuracy)"
      ],
      "metadata": {
        "colab": {
          "base_uri": "https://localhost:8080/"
        },
        "id": "WDW6fd5FVB07",
        "outputId": "67c2638f-ac04-4cbc-e105-e5ec5f16a93d"
      },
      "execution_count": 114,
      "outputs": [
        {
          "output_type": "stream",
          "name": "stdout",
          "text": [
            "Accuracy of Extra Tree Classifier :  0.7691127320118555\n"
          ]
        }
      ]
    },
    {
      "cell_type": "markdown",
      "source": [
        "8. KNN Classifier"
      ],
      "metadata": {
        "id": "PqlhBr-pWDlg"
      }
    },
    {
      "cell_type": "code",
      "source": [
        "from sklearn.neighbors import KNeighborsClassifier\n",
        "KNN = KNeighborsClassifier(n_neighbors=3)\n",
        "KNN.fit(X_train,y_train)\n",
        "y_pred = KNN.predict(X_test)\n",
        "accuracy = accuracy_score(y_test,y_pred)\n",
        "print(\"Accuracy of KNN is : \", accuracy)"
      ],
      "metadata": {
        "id": "3NiaguoqWGV_",
        "colab": {
          "base_uri": "https://localhost:8080/"
        },
        "outputId": "70bc58ca-e27a-4521-af69-b51366fc7d96"
      },
      "execution_count": 115,
      "outputs": [
        {
          "output_type": "stream",
          "name": "stdout",
          "text": [
            "Accuracy of KNN is :  0.704496247871692\n"
          ]
        }
      ]
    },
    {
      "cell_type": "markdown",
      "source": [
        "9. MLP Classifier"
      ],
      "metadata": {
        "id": "qLLoXzur3fg0"
      }
    },
    {
      "cell_type": "code",
      "source": [
        "from sklearn.neural_network import MLPClassifier\n",
        "NC = MLPClassifier(solver='adam',alpha=0.0001,random_state=42,learning_rate='adaptive')\n",
        "NC.fit(X_train,y_train)\n",
        "y_predict = NC.predict(X_test)\n",
        "accuracy = accuracy_score(y_test, y_predict)\n",
        "print(accuracy)"
      ],
      "metadata": {
        "id": "wuCQPz7qWHFa",
        "colab": {
          "base_uri": "https://localhost:8080/"
        },
        "outputId": "2b2fc624-079b-4ff6-f73c-f06668021164"
      },
      "execution_count": 116,
      "outputs": [
        {
          "output_type": "stream",
          "name": "stdout",
          "text": [
            "0.7552182960923213\n"
          ]
        }
      ]
    },
    {
      "cell_type": "markdown",
      "source": [
        "10. Voting Classifier"
      ],
      "metadata": {
        "id": "0JeDyQvK9KFK"
      }
    },
    {
      "cell_type": "code",
      "source": [
        "from sklearn.ensemble import VotingClassifier\n",
        "voting_model_hard = VotingClassifier(estimators=[('dt',DT),('Rf',RF ),('Gradient Boosting',GB)], voting='hard')\n",
        "voting_model_soft = VotingClassifier(estimators=[('dt',DT),('Rf',RF),('Gradient Boosting',GB)], voting='soft')"
      ],
      "metadata": {
        "id": "PcmFOV237G6A"
      },
      "execution_count": 117,
      "outputs": []
    },
    {
      "cell_type": "code",
      "source": [
        "voting_model_hard.fit(X_train, y_train)\n",
        "voting_model_soft.fit(X_train, y_train)\n",
        "y_pred_hard = voting_model_hard.predict(X_test)\n",
        "y_pred_soft = voting_model_soft.predict(X_test)\n",
        "\n"
      ],
      "metadata": {
        "id": "6umPbmNg7iww"
      },
      "execution_count": 118,
      "outputs": []
    },
    {
      "cell_type": "code",
      "source": [
        "accuracy_1 = accuracy_score(y_test,y_pred_hard)\n",
        "accuracy_2 = accuracy_score(y_test,y_pred_soft)\n",
        "\n",
        "print(accuracy_1, accuracy_2)"
      ],
      "metadata": {
        "colab": {
          "base_uri": "https://localhost:8080/"
        },
        "id": "IOXtfmge8pRa",
        "outputId": "6fd80b4d-4996-4a55-887e-e30169b4f02e"
      },
      "execution_count": 119,
      "outputs": [
        {
          "output_type": "stream",
          "name": "stdout",
          "text": [
            "0.7701217076913375 0.7648245853740567\n"
          ]
        }
      ]
    },
    {
      "cell_type": "code",
      "source": [
        "df_test.head()"
      ],
      "metadata": {
        "id": "c7aVdHZSJ6k_",
        "colab": {
          "base_uri": "https://localhost:8080/",
          "height": 273
        },
        "outputId": "3c45751c-e072-4a96-c23a-e3b562f0c9d9"
      },
      "execution_count": 120,
      "outputs": [
        {
          "output_type": "execute_result",
          "data": {
            "text/plain": [
              "       id  age  height(cm)  weight(kg)  waist(cm)  eyesight(left)  \\\n",
              "0  159256   40         165          70       84.0             1.2   \n",
              "1  159257   80         160          60       93.0             1.0   \n",
              "2  159258   60         170          70       86.5             0.6   \n",
              "3  159259   40         160          50       67.0             0.3   \n",
              "4  159260   40         170          75       89.4             1.0   \n",
              "\n",
              "   eyesight(right)  hearing(left)  hearing(right)  systolic  ...  \\\n",
              "0              1.2              1               1       130  ...   \n",
              "1              1.0              2               2       144  ...   \n",
              "2              0.7              1               1       117  ...   \n",
              "3              0.4              1               1       116  ...   \n",
              "4              0.9              1               1       132  ...   \n",
              "\n",
              "   triglyceride  HDL  LDL  hemoglobin  Urine protein  serum creatinine  AST  \\\n",
              "0           186   49  115        14.2              1               0.9   19   \n",
              "1           158   35  104        13.0              1               1.1   20   \n",
              "2           173   39   88        15.4              1               1.4   38   \n",
              "3            47   75  128        14.5              1               0.6   25   \n",
              "4           100   39  123        16.5              1               1.0   30   \n",
              "\n",
              "   ALT  Gtp  dental caries  \n",
              "0   25   32              0  \n",
              "1   12   24              0  \n",
              "2   60   36              0  \n",
              "3   18   10              1  \n",
              "4   39   27              1  \n",
              "\n",
              "[5 rows x 23 columns]"
            ],
            "text/html": [
              "\n",
              "  <div id=\"df-f17ecef4-492c-4205-aa68-d10de65d5c1c\" class=\"colab-df-container\">\n",
              "    <div>\n",
              "<style scoped>\n",
              "    .dataframe tbody tr th:only-of-type {\n",
              "        vertical-align: middle;\n",
              "    }\n",
              "\n",
              "    .dataframe tbody tr th {\n",
              "        vertical-align: top;\n",
              "    }\n",
              "\n",
              "    .dataframe thead th {\n",
              "        text-align: right;\n",
              "    }\n",
              "</style>\n",
              "<table border=\"1\" class=\"dataframe\">\n",
              "  <thead>\n",
              "    <tr style=\"text-align: right;\">\n",
              "      <th></th>\n",
              "      <th>id</th>\n",
              "      <th>age</th>\n",
              "      <th>height(cm)</th>\n",
              "      <th>weight(kg)</th>\n",
              "      <th>waist(cm)</th>\n",
              "      <th>eyesight(left)</th>\n",
              "      <th>eyesight(right)</th>\n",
              "      <th>hearing(left)</th>\n",
              "      <th>hearing(right)</th>\n",
              "      <th>systolic</th>\n",
              "      <th>...</th>\n",
              "      <th>triglyceride</th>\n",
              "      <th>HDL</th>\n",
              "      <th>LDL</th>\n",
              "      <th>hemoglobin</th>\n",
              "      <th>Urine protein</th>\n",
              "      <th>serum creatinine</th>\n",
              "      <th>AST</th>\n",
              "      <th>ALT</th>\n",
              "      <th>Gtp</th>\n",
              "      <th>dental caries</th>\n",
              "    </tr>\n",
              "  </thead>\n",
              "  <tbody>\n",
              "    <tr>\n",
              "      <th>0</th>\n",
              "      <td>159256</td>\n",
              "      <td>40</td>\n",
              "      <td>165</td>\n",
              "      <td>70</td>\n",
              "      <td>84.0</td>\n",
              "      <td>1.2</td>\n",
              "      <td>1.2</td>\n",
              "      <td>1</td>\n",
              "      <td>1</td>\n",
              "      <td>130</td>\n",
              "      <td>...</td>\n",
              "      <td>186</td>\n",
              "      <td>49</td>\n",
              "      <td>115</td>\n",
              "      <td>14.2</td>\n",
              "      <td>1</td>\n",
              "      <td>0.9</td>\n",
              "      <td>19</td>\n",
              "      <td>25</td>\n",
              "      <td>32</td>\n",
              "      <td>0</td>\n",
              "    </tr>\n",
              "    <tr>\n",
              "      <th>1</th>\n",
              "      <td>159257</td>\n",
              "      <td>80</td>\n",
              "      <td>160</td>\n",
              "      <td>60</td>\n",
              "      <td>93.0</td>\n",
              "      <td>1.0</td>\n",
              "      <td>1.0</td>\n",
              "      <td>2</td>\n",
              "      <td>2</td>\n",
              "      <td>144</td>\n",
              "      <td>...</td>\n",
              "      <td>158</td>\n",
              "      <td>35</td>\n",
              "      <td>104</td>\n",
              "      <td>13.0</td>\n",
              "      <td>1</td>\n",
              "      <td>1.1</td>\n",
              "      <td>20</td>\n",
              "      <td>12</td>\n",
              "      <td>24</td>\n",
              "      <td>0</td>\n",
              "    </tr>\n",
              "    <tr>\n",
              "      <th>2</th>\n",
              "      <td>159258</td>\n",
              "      <td>60</td>\n",
              "      <td>170</td>\n",
              "      <td>70</td>\n",
              "      <td>86.5</td>\n",
              "      <td>0.6</td>\n",
              "      <td>0.7</td>\n",
              "      <td>1</td>\n",
              "      <td>1</td>\n",
              "      <td>117</td>\n",
              "      <td>...</td>\n",
              "      <td>173</td>\n",
              "      <td>39</td>\n",
              "      <td>88</td>\n",
              "      <td>15.4</td>\n",
              "      <td>1</td>\n",
              "      <td>1.4</td>\n",
              "      <td>38</td>\n",
              "      <td>60</td>\n",
              "      <td>36</td>\n",
              "      <td>0</td>\n",
              "    </tr>\n",
              "    <tr>\n",
              "      <th>3</th>\n",
              "      <td>159259</td>\n",
              "      <td>40</td>\n",
              "      <td>160</td>\n",
              "      <td>50</td>\n",
              "      <td>67.0</td>\n",
              "      <td>0.3</td>\n",
              "      <td>0.4</td>\n",
              "      <td>1</td>\n",
              "      <td>1</td>\n",
              "      <td>116</td>\n",
              "      <td>...</td>\n",
              "      <td>47</td>\n",
              "      <td>75</td>\n",
              "      <td>128</td>\n",
              "      <td>14.5</td>\n",
              "      <td>1</td>\n",
              "      <td>0.6</td>\n",
              "      <td>25</td>\n",
              "      <td>18</td>\n",
              "      <td>10</td>\n",
              "      <td>1</td>\n",
              "    </tr>\n",
              "    <tr>\n",
              "      <th>4</th>\n",
              "      <td>159260</td>\n",
              "      <td>40</td>\n",
              "      <td>170</td>\n",
              "      <td>75</td>\n",
              "      <td>89.4</td>\n",
              "      <td>1.0</td>\n",
              "      <td>0.9</td>\n",
              "      <td>1</td>\n",
              "      <td>1</td>\n",
              "      <td>132</td>\n",
              "      <td>...</td>\n",
              "      <td>100</td>\n",
              "      <td>39</td>\n",
              "      <td>123</td>\n",
              "      <td>16.5</td>\n",
              "      <td>1</td>\n",
              "      <td>1.0</td>\n",
              "      <td>30</td>\n",
              "      <td>39</td>\n",
              "      <td>27</td>\n",
              "      <td>1</td>\n",
              "    </tr>\n",
              "  </tbody>\n",
              "</table>\n",
              "<p>5 rows × 23 columns</p>\n",
              "</div>\n",
              "    <div class=\"colab-df-buttons\">\n",
              "\n",
              "  <div class=\"colab-df-container\">\n",
              "    <button class=\"colab-df-convert\" onclick=\"convertToInteractive('df-f17ecef4-492c-4205-aa68-d10de65d5c1c')\"\n",
              "            title=\"Convert this dataframe to an interactive table.\"\n",
              "            style=\"display:none;\">\n",
              "\n",
              "  <svg xmlns=\"http://www.w3.org/2000/svg\" height=\"24px\" viewBox=\"0 -960 960 960\">\n",
              "    <path d=\"M120-120v-720h720v720H120Zm60-500h600v-160H180v160Zm220 220h160v-160H400v160Zm0 220h160v-160H400v160ZM180-400h160v-160H180v160Zm440 0h160v-160H620v160ZM180-180h160v-160H180v160Zm440 0h160v-160H620v160Z\"/>\n",
              "  </svg>\n",
              "    </button>\n",
              "\n",
              "  <style>\n",
              "    .colab-df-container {\n",
              "      display:flex;\n",
              "      gap: 12px;\n",
              "    }\n",
              "\n",
              "    .colab-df-convert {\n",
              "      background-color: #E8F0FE;\n",
              "      border: none;\n",
              "      border-radius: 50%;\n",
              "      cursor: pointer;\n",
              "      display: none;\n",
              "      fill: #1967D2;\n",
              "      height: 32px;\n",
              "      padding: 0 0 0 0;\n",
              "      width: 32px;\n",
              "    }\n",
              "\n",
              "    .colab-df-convert:hover {\n",
              "      background-color: #E2EBFA;\n",
              "      box-shadow: 0px 1px 2px rgba(60, 64, 67, 0.3), 0px 1px 3px 1px rgba(60, 64, 67, 0.15);\n",
              "      fill: #174EA6;\n",
              "    }\n",
              "\n",
              "    .colab-df-buttons div {\n",
              "      margin-bottom: 4px;\n",
              "    }\n",
              "\n",
              "    [theme=dark] .colab-df-convert {\n",
              "      background-color: #3B4455;\n",
              "      fill: #D2E3FC;\n",
              "    }\n",
              "\n",
              "    [theme=dark] .colab-df-convert:hover {\n",
              "      background-color: #434B5C;\n",
              "      box-shadow: 0px 1px 3px 1px rgba(0, 0, 0, 0.15);\n",
              "      filter: drop-shadow(0px 1px 2px rgba(0, 0, 0, 0.3));\n",
              "      fill: #FFFFFF;\n",
              "    }\n",
              "  </style>\n",
              "\n",
              "    <script>\n",
              "      const buttonEl =\n",
              "        document.querySelector('#df-f17ecef4-492c-4205-aa68-d10de65d5c1c button.colab-df-convert');\n",
              "      buttonEl.style.display =\n",
              "        google.colab.kernel.accessAllowed ? 'block' : 'none';\n",
              "\n",
              "      async function convertToInteractive(key) {\n",
              "        const element = document.querySelector('#df-f17ecef4-492c-4205-aa68-d10de65d5c1c');\n",
              "        const dataTable =\n",
              "          await google.colab.kernel.invokeFunction('convertToInteractive',\n",
              "                                                    [key], {});\n",
              "        if (!dataTable) return;\n",
              "\n",
              "        const docLinkHtml = 'Like what you see? Visit the ' +\n",
              "          '<a target=\"_blank\" href=https://colab.research.google.com/notebooks/data_table.ipynb>data table notebook</a>'\n",
              "          + ' to learn more about interactive tables.';\n",
              "        element.innerHTML = '';\n",
              "        dataTable['output_type'] = 'display_data';\n",
              "        await google.colab.output.renderOutput(dataTable, element);\n",
              "        const docLink = document.createElement('div');\n",
              "        docLink.innerHTML = docLinkHtml;\n",
              "        element.appendChild(docLink);\n",
              "      }\n",
              "    </script>\n",
              "  </div>\n",
              "\n",
              "\n",
              "<div id=\"df-37781e0d-0567-429b-afb5-69a511a27232\">\n",
              "  <button class=\"colab-df-quickchart\" onclick=\"quickchart('df-37781e0d-0567-429b-afb5-69a511a27232')\"\n",
              "            title=\"Suggest charts.\"\n",
              "            style=\"display:none;\">\n",
              "\n",
              "<svg xmlns=\"http://www.w3.org/2000/svg\" height=\"24px\"viewBox=\"0 0 24 24\"\n",
              "     width=\"24px\">\n",
              "    <g>\n",
              "        <path d=\"M19 3H5c-1.1 0-2 .9-2 2v14c0 1.1.9 2 2 2h14c1.1 0 2-.9 2-2V5c0-1.1-.9-2-2-2zM9 17H7v-7h2v7zm4 0h-2V7h2v10zm4 0h-2v-4h2v4z\"/>\n",
              "    </g>\n",
              "</svg>\n",
              "  </button>\n",
              "\n",
              "<style>\n",
              "  .colab-df-quickchart {\n",
              "      --bg-color: #E8F0FE;\n",
              "      --fill-color: #1967D2;\n",
              "      --hover-bg-color: #E2EBFA;\n",
              "      --hover-fill-color: #174EA6;\n",
              "      --disabled-fill-color: #AAA;\n",
              "      --disabled-bg-color: #DDD;\n",
              "  }\n",
              "\n",
              "  [theme=dark] .colab-df-quickchart {\n",
              "      --bg-color: #3B4455;\n",
              "      --fill-color: #D2E3FC;\n",
              "      --hover-bg-color: #434B5C;\n",
              "      --hover-fill-color: #FFFFFF;\n",
              "      --disabled-bg-color: #3B4455;\n",
              "      --disabled-fill-color: #666;\n",
              "  }\n",
              "\n",
              "  .colab-df-quickchart {\n",
              "    background-color: var(--bg-color);\n",
              "    border: none;\n",
              "    border-radius: 50%;\n",
              "    cursor: pointer;\n",
              "    display: none;\n",
              "    fill: var(--fill-color);\n",
              "    height: 32px;\n",
              "    padding: 0;\n",
              "    width: 32px;\n",
              "  }\n",
              "\n",
              "  .colab-df-quickchart:hover {\n",
              "    background-color: var(--hover-bg-color);\n",
              "    box-shadow: 0 1px 2px rgba(60, 64, 67, 0.3), 0 1px 3px 1px rgba(60, 64, 67, 0.15);\n",
              "    fill: var(--button-hover-fill-color);\n",
              "  }\n",
              "\n",
              "  .colab-df-quickchart-complete:disabled,\n",
              "  .colab-df-quickchart-complete:disabled:hover {\n",
              "    background-color: var(--disabled-bg-color);\n",
              "    fill: var(--disabled-fill-color);\n",
              "    box-shadow: none;\n",
              "  }\n",
              "\n",
              "  .colab-df-spinner {\n",
              "    border: 2px solid var(--fill-color);\n",
              "    border-color: transparent;\n",
              "    border-bottom-color: var(--fill-color);\n",
              "    animation:\n",
              "      spin 1s steps(1) infinite;\n",
              "  }\n",
              "\n",
              "  @keyframes spin {\n",
              "    0% {\n",
              "      border-color: transparent;\n",
              "      border-bottom-color: var(--fill-color);\n",
              "      border-left-color: var(--fill-color);\n",
              "    }\n",
              "    20% {\n",
              "      border-color: transparent;\n",
              "      border-left-color: var(--fill-color);\n",
              "      border-top-color: var(--fill-color);\n",
              "    }\n",
              "    30% {\n",
              "      border-color: transparent;\n",
              "      border-left-color: var(--fill-color);\n",
              "      border-top-color: var(--fill-color);\n",
              "      border-right-color: var(--fill-color);\n",
              "    }\n",
              "    40% {\n",
              "      border-color: transparent;\n",
              "      border-right-color: var(--fill-color);\n",
              "      border-top-color: var(--fill-color);\n",
              "    }\n",
              "    60% {\n",
              "      border-color: transparent;\n",
              "      border-right-color: var(--fill-color);\n",
              "    }\n",
              "    80% {\n",
              "      border-color: transparent;\n",
              "      border-right-color: var(--fill-color);\n",
              "      border-bottom-color: var(--fill-color);\n",
              "    }\n",
              "    90% {\n",
              "      border-color: transparent;\n",
              "      border-bottom-color: var(--fill-color);\n",
              "    }\n",
              "  }\n",
              "</style>\n",
              "\n",
              "  <script>\n",
              "    async function quickchart(key) {\n",
              "      const quickchartButtonEl =\n",
              "        document.querySelector('#' + key + ' button');\n",
              "      quickchartButtonEl.disabled = true;  // To prevent multiple clicks.\n",
              "      quickchartButtonEl.classList.add('colab-df-spinner');\n",
              "      try {\n",
              "        const charts = await google.colab.kernel.invokeFunction(\n",
              "            'suggestCharts', [key], {});\n",
              "      } catch (error) {\n",
              "        console.error('Error during call to suggestCharts:', error);\n",
              "      }\n",
              "      quickchartButtonEl.classList.remove('colab-df-spinner');\n",
              "      quickchartButtonEl.classList.add('colab-df-quickchart-complete');\n",
              "    }\n",
              "    (() => {\n",
              "      let quickchartButtonEl =\n",
              "        document.querySelector('#df-37781e0d-0567-429b-afb5-69a511a27232 button');\n",
              "      quickchartButtonEl.style.display =\n",
              "        google.colab.kernel.accessAllowed ? 'block' : 'none';\n",
              "    })();\n",
              "  </script>\n",
              "</div>\n",
              "    </div>\n",
              "  </div>\n"
            ]
          },
          "metadata": {},
          "execution_count": 120
        }
      ]
    },
    {
      "cell_type": "code",
      "source": [],
      "metadata": {
        "id": "XwnmPeidDkwg"
      },
      "execution_count": 120,
      "outputs": []
    },
    {
      "cell_type": "markdown",
      "source": [
        "## Model on the test data"
      ],
      "metadata": {
        "id": "8QueeVyMlecq"
      }
    },
    {
      "cell_type": "code",
      "source": [
        "df_test_copy = df_test.copy()\n",
        "df_test_copy = df_test_copy.drop(columns=['id'],axis=1)\n",
        "X_scaled =  scaler.transform(df_test_copy)\n",
        "y_pred_final = RF.predict(X_scaled)\n",
        "\n",
        "print(y_pred_final)\n",
        "print(len(y_pred_final))"
      ],
      "metadata": {
        "id": "7wdmTcpjJ6nb",
        "colab": {
          "base_uri": "https://localhost:8080/"
        },
        "outputId": "aa45acd2-c11f-4202-ba68-e11217c78ebe"
      },
      "execution_count": 121,
      "outputs": [
        {
          "output_type": "stream",
          "name": "stdout",
          "text": [
            "[1 0 0 ... 0 0 0]\n",
            "106171\n"
          ]
        }
      ]
    },
    {
      "cell_type": "code",
      "source": [
        "final_df = pd.DataFrame({'id':df_test['id'],'smoking':y_pred_final})"
      ],
      "metadata": {
        "id": "pTLNAem3J6q1"
      },
      "execution_count": 122,
      "outputs": []
    },
    {
      "cell_type": "code",
      "source": [
        "csv_file_path = r'C:\\Users\\ASUS\\Downloads\\final.csv'\n",
        "final_df.to_csv(csv_file_path, index=False)"
      ],
      "metadata": {
        "id": "-Lw11jgcJ6ta"
      },
      "execution_count": 123,
      "outputs": []
    },
    {
      "cell_type": "code",
      "source": [],
      "metadata": {
        "id": "pWw-3ILOu-Uo"
      },
      "execution_count": 123,
      "outputs": []
    },
    {
      "cell_type": "code",
      "source": [],
      "metadata": {
        "id": "lyuVc8g2u-Xc"
      },
      "execution_count": 123,
      "outputs": []
    },
    {
      "cell_type": "code",
      "source": [],
      "metadata": {
        "id": "YOX0cKCou-Zg"
      },
      "execution_count": 123,
      "outputs": []
    },
    {
      "cell_type": "code",
      "source": [],
      "metadata": {
        "id": "vsb_KtQuu-cA"
      },
      "execution_count": 123,
      "outputs": []
    },
    {
      "cell_type": "code",
      "source": [],
      "metadata": {
        "id": "EGIMTSu3u-eB"
      },
      "execution_count": 123,
      "outputs": []
    }
  ]
}